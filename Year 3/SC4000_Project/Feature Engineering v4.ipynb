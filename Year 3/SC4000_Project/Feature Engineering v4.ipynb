{
 "cells": [
  {
   "cell_type": "markdown",
   "id": "703c3977-e7f5-46d4-9605-6970b1be6c1d",
   "metadata": {},
   "source": [
    "# Import Essential Libraries"
   ]
  },
  {
   "cell_type": "code",
   "execution_count": 1,
   "id": "9ca395bc-a299-4ad7-9571-0806c9e76d41",
   "metadata": {},
   "outputs": [],
   "source": [
    "import pandas as pd\n",
    "import numpy as np\n",
    "import seaborn as sns\n",
    "import matplotlib.pyplot as plt\n",
    "import math\n",
    "from scipy.stats import mstats"
   ]
  },
  {
   "cell_type": "code",
   "execution_count": 2,
   "id": "b33b9bae-f924-4c77-8691-d3ce5c25cede",
   "metadata": {},
   "outputs": [
    {
     "data": {
      "text/html": [
       "<div>\n",
       "<style scoped>\n",
       "    .dataframe tbody tr th:only-of-type {\n",
       "        vertical-align: middle;\n",
       "    }\n",
       "\n",
       "    .dataframe tbody tr th {\n",
       "        vertical-align: top;\n",
       "    }\n",
       "\n",
       "    .dataframe thead th {\n",
       "        text-align: right;\n",
       "    }\n",
       "</style>\n",
       "<table border=\"1\" class=\"dataframe\">\n",
       "  <thead>\n",
       "    <tr style=\"text-align: right;\">\n",
       "      <th></th>\n",
       "      <th>first_active_month</th>\n",
       "      <th>card_id</th>\n",
       "      <th>feature_1</th>\n",
       "      <th>feature_2</th>\n",
       "      <th>feature_3</th>\n",
       "      <th>target</th>\n",
       "    </tr>\n",
       "  </thead>\n",
       "  <tbody>\n",
       "    <tr>\n",
       "      <th>0</th>\n",
       "      <td>2017-06</td>\n",
       "      <td>C_ID_92a2005557</td>\n",
       "      <td>5</td>\n",
       "      <td>2</td>\n",
       "      <td>1</td>\n",
       "      <td>-0.820283</td>\n",
       "    </tr>\n",
       "    <tr>\n",
       "      <th>1</th>\n",
       "      <td>2017-01</td>\n",
       "      <td>C_ID_3d0044924f</td>\n",
       "      <td>4</td>\n",
       "      <td>1</td>\n",
       "      <td>0</td>\n",
       "      <td>0.392913</td>\n",
       "    </tr>\n",
       "    <tr>\n",
       "      <th>2</th>\n",
       "      <td>2016-08</td>\n",
       "      <td>C_ID_d639edf6cd</td>\n",
       "      <td>2</td>\n",
       "      <td>2</td>\n",
       "      <td>0</td>\n",
       "      <td>0.688056</td>\n",
       "    </tr>\n",
       "    <tr>\n",
       "      <th>3</th>\n",
       "      <td>2017-09</td>\n",
       "      <td>C_ID_186d6a6901</td>\n",
       "      <td>4</td>\n",
       "      <td>3</td>\n",
       "      <td>0</td>\n",
       "      <td>0.142495</td>\n",
       "    </tr>\n",
       "    <tr>\n",
       "      <th>4</th>\n",
       "      <td>2017-11</td>\n",
       "      <td>C_ID_cdbd2c0db2</td>\n",
       "      <td>1</td>\n",
       "      <td>3</td>\n",
       "      <td>0</td>\n",
       "      <td>-0.159749</td>\n",
       "    </tr>\n",
       "  </tbody>\n",
       "</table>\n",
       "</div>"
      ],
      "text/plain": [
       "  first_active_month          card_id  feature_1  feature_2  feature_3  \\\n",
       "0            2017-06  C_ID_92a2005557          5          2          1   \n",
       "1            2017-01  C_ID_3d0044924f          4          1          0   \n",
       "2            2016-08  C_ID_d639edf6cd          2          2          0   \n",
       "3            2017-09  C_ID_186d6a6901          4          3          0   \n",
       "4            2017-11  C_ID_cdbd2c0db2          1          3          0   \n",
       "\n",
       "     target  \n",
       "0 -0.820283  \n",
       "1  0.392913  \n",
       "2  0.688056  \n",
       "3  0.142495  \n",
       "4 -0.159749  "
      ]
     },
     "execution_count": 2,
     "metadata": {},
     "output_type": "execute_result"
    }
   ],
   "source": [
    "df_train = pd.read_csv('data/train.csv')\n",
    "df_train.head()"
   ]
  },
  {
   "cell_type": "code",
   "execution_count": 3,
   "id": "375ac012-058b-47be-8889-24d1ba254f94",
   "metadata": {},
   "outputs": [
    {
     "name": "stdout",
     "output_type": "stream",
     "text": [
      "<class 'pandas.core.frame.DataFrame'>\n",
      "RangeIndex: 201917 entries, 0 to 201916\n",
      "Data columns (total 6 columns):\n",
      " #   Column              Non-Null Count   Dtype  \n",
      "---  ------              --------------   -----  \n",
      " 0   first_active_month  201917 non-null  object \n",
      " 1   card_id             201917 non-null  object \n",
      " 2   feature_1           201917 non-null  int64  \n",
      " 3   feature_2           201917 non-null  int64  \n",
      " 4   feature_3           201917 non-null  int64  \n",
      " 5   target              201917 non-null  float64\n",
      "dtypes: float64(1), int64(3), object(2)\n",
      "memory usage: 9.2+ MB\n"
     ]
    }
   ],
   "source": [
    "df_train.info(show_counts=True)"
   ]
  },
  {
   "cell_type": "code",
   "execution_count": 4,
   "id": "2e4dc716-9c78-43d4-b020-9e6c6a9ebb33",
   "metadata": {},
   "outputs": [
    {
     "data": {
      "image/png": "[encoded data removed]",
      "text/plain": [
       "<Figure size 1000x700 with 3 Axes>"
      ]
     },
     "metadata": {},
     "output_type": "display_data"
    }
   ],
   "source": [
    "fig, axes = plt.subplots(1, 3, figsize=(10, 7))\n",
    "\n",
    "x = ['feature_1', 'feature_2', 'feature_3']\n",
    "y = 'target'\n",
    "\n",
    "sns.scatterplot(x=x[0], y=y, data=df_train, ax=axes[0])\n",
    "axes[0].set_title(f'Spread of {x[0]} against target')\n",
    "\n",
    "sns.scatterplot(x=x[1], y=y, data=df_train, ax=axes[1])\n",
    "axes[1].set_title(f'Spread of {x[1]} against target')\n",
    "\n",
    "sns.scatterplot(x=x[2], y=y, data=df_train, ax=axes[2])\n",
    "axes[2].set_title(f'Spread of {x[2]} against target')\n",
    "\n",
    "plt.tight_layout()\n",
    "plt.show()"
   ]
  },
  {
   "cell_type": "code",
   "execution_count": 5,
   "id": "b8459851-81d0-4069-b1fe-ff8d9c3c805b",
   "metadata": {},
   "outputs": [
    {
     "data": {
      "image/png": "[encoded data removed]",
      "text/plain": [
       "<Figure size 2000x200 with 1 Axes>"
      ]
     },
     "metadata": {},
     "output_type": "display_data"
    }
   ],
   "source": [
    "fig, axes = plt.subplots(1, figsize=(20,2))\n",
    "\n",
    "sns.boxplot(data=df_train, x='target')\n",
    "plt.title('Spread of target')\n",
    "plt.show()"
   ]
  },
  {
   "cell_type": "code",
   "execution_count": 6,
   "id": "af2bcfb0-6a85-407f-a520-0b39b1c5513b",
   "metadata": {},
   "outputs": [
    {
     "data": {
      "text/html": [
       "<div>\n",
       "<style scoped>\n",
       "    .dataframe tbody tr th:only-of-type {\n",
       "        vertical-align: middle;\n",
       "    }\n",
       "\n",
       "    .dataframe tbody tr th {\n",
       "        vertical-align: top;\n",
       "    }\n",
       "\n",
       "    .dataframe thead th {\n",
       "        text-align: right;\n",
       "    }\n",
       "</style>\n",
       "<table border=\"1\" class=\"dataframe\">\n",
       "  <thead>\n",
       "    <tr style=\"text-align: right;\">\n",
       "      <th></th>\n",
       "      <th>first_active_month</th>\n",
       "      <th>card_id</th>\n",
       "      <th>feature_1</th>\n",
       "      <th>feature_2</th>\n",
       "      <th>feature_3</th>\n",
       "    </tr>\n",
       "  </thead>\n",
       "  <tbody>\n",
       "    <tr>\n",
       "      <th>0</th>\n",
       "      <td>2017-04</td>\n",
       "      <td>C_ID_0ab67a22ab</td>\n",
       "      <td>3</td>\n",
       "      <td>3</td>\n",
       "      <td>1</td>\n",
       "    </tr>\n",
       "    <tr>\n",
       "      <th>1</th>\n",
       "      <td>2017-01</td>\n",
       "      <td>C_ID_130fd0cbdd</td>\n",
       "      <td>2</td>\n",
       "      <td>3</td>\n",
       "      <td>0</td>\n",
       "    </tr>\n",
       "    <tr>\n",
       "      <th>2</th>\n",
       "      <td>2017-08</td>\n",
       "      <td>C_ID_b709037bc5</td>\n",
       "      <td>5</td>\n",
       "      <td>1</td>\n",
       "      <td>1</td>\n",
       "    </tr>\n",
       "    <tr>\n",
       "      <th>3</th>\n",
       "      <td>2017-12</td>\n",
       "      <td>C_ID_d27d835a9f</td>\n",
       "      <td>2</td>\n",
       "      <td>1</td>\n",
       "      <td>0</td>\n",
       "    </tr>\n",
       "    <tr>\n",
       "      <th>4</th>\n",
       "      <td>2015-12</td>\n",
       "      <td>C_ID_2b5e3df5c2</td>\n",
       "      <td>5</td>\n",
       "      <td>1</td>\n",
       "      <td>1</td>\n",
       "    </tr>\n",
       "  </tbody>\n",
       "</table>\n",
       "</div>"
      ],
      "text/plain": [
       "  first_active_month          card_id  feature_1  feature_2  feature_3\n",
       "0            2017-04  C_ID_0ab67a22ab          3          3          1\n",
       "1            2017-01  C_ID_130fd0cbdd          2          3          0\n",
       "2            2017-08  C_ID_b709037bc5          5          1          1\n",
       "3            2017-12  C_ID_d27d835a9f          2          1          0\n",
       "4            2015-12  C_ID_2b5e3df5c2          5          1          1"
      ]
     },
     "execution_count": 6,
     "metadata": {},
     "output_type": "execute_result"
    }
   ],
   "source": [
    "df_test = pd.read_csv('data/test.csv')\n",
    "df_test.head()"
   ]
  },
  {
   "cell_type": "code",
   "execution_count": 7,
   "id": "9f8ee4ba-8189-4b47-b5ea-b6a1cfb1e85b",
   "metadata": {},
   "outputs": [
    {
     "name": "stdout",
     "output_type": "stream",
     "text": [
      "<class 'pandas.core.frame.DataFrame'>\n",
      "RangeIndex: 123623 entries, 0 to 123622\n",
      "Data columns (total 5 columns):\n",
      " #   Column              Non-Null Count   Dtype \n",
      "---  ------              --------------   ----- \n",
      " 0   first_active_month  123622 non-null  object\n",
      " 1   card_id             123623 non-null  object\n",
      " 2   feature_1           123623 non-null  int64 \n",
      " 3   feature_2           123623 non-null  int64 \n",
      " 4   feature_3           123623 non-null  int64 \n",
      "dtypes: int64(3), object(2)\n",
      "memory usage: 4.7+ MB\n"
     ]
    }
   ],
   "source": [
    "df_test.info(show_counts=True)"
   ]
  },
  {
   "cell_type": "code",
   "execution_count": 8,
   "id": "451ed339-b986-48e2-b767-b9de710e7f2a",
   "metadata": {},
   "outputs": [
    {
     "data": {
      "image/png": "[encoded data removed]",
      "text/plain": [
       "<Figure size 1200x600 with 3 Axes>"
      ]
     },
     "metadata": {},
     "output_type": "display_data"
    }
   ],
   "source": [
    "fig, axes = plt.subplots(3, figsize=(12, 6))\n",
    "\n",
    "sns.countplot(data=df_test, y='feature_1', ax=axes[0])\n",
    "axes[0].set_title('Count of feature_1')\n",
    "\n",
    "sns.countplot(data=df_test, y='feature_2', ax=axes[1])\n",
    "axes[1].set_title('Count of feature_2')\n",
    "\n",
    "sns.countplot(data=df_test, y='feature_3', ax=axes[2])\n",
    "axes[2].set_title('Count of feature_3')\n",
    "\n",
    "plt.tight_layout()\n",
    "plt.show()"
   ]
  },
  {
   "cell_type": "code",
   "execution_count": 9,
   "id": "fec8926a-29f1-4f85-8233-3df60e25bfdd",
   "metadata": {},
   "outputs": [],
   "source": [
    "def reduce_mem_usage(df, verbose=True):\n",
    "    numerics = ['int16', 'int32', 'int64', 'float16', 'float32', 'float64'] \n",
    "    start_mem = df.memory_usage().sum() / 1024**2\n",
    "    for col in df.columns:\n",
    "        col_type = df[col].dtypes \n",
    "        if col_type in numerics: \n",
    "            c_min = df[col].min()\n",
    "            c_max = df[col].max()\n",
    "            if str(col_type)[:3] == 'int':\n",
    "                if c_min > np.iinfo(np.int8).min and c_max < np.iinfo(np.int8).max:\n",
    "                    df[col] = df[col].astype(np.int8)\n",
    "                elif c_min > np.iinfo(np.int16).min and c_max < np.iinfo(np.int16).max:\n",
    "                    df[col] = df[col].astype(np.int16)\n",
    "                elif c_min > np.iinfo(np.int32).min and c_max < np.iinfo(np.int32).max:\n",
    "                    df[col] = df[col].astype(np.int32)\n",
    "                elif c_min > np.iinfo(np.int64).min and c_max < np.iinfo(np.int64).max:\n",
    "                    df[col] = df[col].astype(np.int64) \n",
    "            else:\n",
    "                if c_min > np.finfo(np.float16).min and c_max < np.finfo(np.float32).max: \n",
    "                    df[col] = df[col].astype(np.float32)\n",
    "                #elif c_min > np.finfo(np.float16).min and c_max < np.finfo(np.float16).max: \n",
    "                    #df[col] = df[col].astype(np.float16)\n",
    "                else:\n",
    "                    df[col] = df[col].astype(np.float64)\n",
    "    end_mem = df.memory_usage().sum() / 1024**2\n",
    "    if verbose: print('Mem. usage decreased to {:5.2f} Mb ({:.1%} reduction)'.format(end_mem, (start_mem-end_mem)/start_mem))\n",
    "    return df\n",
    "\n",
    "def convert_type(df, feat_dict={}):\n",
    "    for feature in df.columns.tolist():\n",
    "        # Specify desired type for that feature name\n",
    "        if feature in feat_dict.keys():\n",
    "            df[feature] = df[feature].astype(feat_dict[feature])\n",
    "\n",
    "def fill_na(df):\n",
    "    for feature in df.columns.tolist():\n",
    "        if (df[feature].dtype == 'object') or (df[feature].dtype == 'bool'):\n",
    "            df[feature] = df[feature].fillna(df[feature].mode()[0])\n",
    "        else:\n",
    "            df[feature] = df[feature].replace([np.inf, -np.inf], np.nan)\n",
    "            df[feature] = df[feature].fillna(df[feature].mean())\n",
    "            #df[feature] = df[feature].fillna(df[feature].mode()[0])"
   ]
  },
  {
   "cell_type": "code",
   "execution_count": 10,
   "id": "3a8e3c4a-7989-4a00-9ee3-0091d4c120f4",
   "metadata": {
    "scrolled": true
   },
   "outputs": [
    {
     "name": "stdout",
     "output_type": "stream",
     "text": [
      "<class 'pandas.core.frame.DataFrame'>\n",
      "RangeIndex: 123623 entries, 0 to 123622\n",
      "Data columns (total 5 columns):\n",
      " #   Column              Non-Null Count   Dtype \n",
      "---  ------              --------------   ----- \n",
      " 0   first_active_month  123623 non-null  object\n",
      " 1   card_id             123623 non-null  object\n",
      " 2   feature_1           123623 non-null  int64 \n",
      " 3   feature_2           123623 non-null  int64 \n",
      " 4   feature_3           123623 non-null  int64 \n",
      "dtypes: int64(3), object(2)\n",
      "memory usage: 4.7+ MB\n"
     ]
    }
   ],
   "source": [
    "df_test['first_active_month'] = df_test['first_active_month'].fillna(df_test['first_active_month'].mode()[0])\n",
    "df_test.info(show_counts=True)"
   ]
  },
  {
   "cell_type": "markdown",
   "id": "344ed3bd",
   "metadata": {},
   "source": [
    "# Feature engineering of train and test"
   ]
  },
  {
   "cell_type": "code",
   "execution_count": 11,
   "id": "1ce8f1d8",
   "metadata": {},
   "outputs": [],
   "source": [
    "for df in [df_train, df_test]:\n",
    "    df['first_active_month'] = pd.to_datetime(df['first_active_month'])\n",
    "    df['year_of_first_active'] = df['first_active_month'].dt.year\n",
    "    df['quarter_of_first_active'] = df['first_active_month'].dt.quarter\n",
    "    df['month_of_first_active'] = df['first_active_month'].dt.month\n",
    "    df['active_days'] = (pd.to_datetime('2018-02-01') - df['first_active_month']).dt.days #1st Feb 2018 when elo started rec\n",
    "\n",
    "    df.drop(columns='first_active_month', axis=1, inplace=True)"
   ]
  },
  {
   "cell_type": "code",
   "execution_count": 12,
   "id": "16bf7639-a75c-4e9e-b4d2-df9b888f3474",
   "metadata": {
    "scrolled": true
   },
   "outputs": [
    {
     "name": "stdout",
     "output_type": "stream",
     "text": [
      "<class 'pandas.core.frame.DataFrame'>\n",
      "RangeIndex: 201917 entries, 0 to 201916\n",
      "Data columns (total 9 columns):\n",
      " #   Column                   Non-Null Count   Dtype  \n",
      "---  ------                   --------------   -----  \n",
      " 0   card_id                  201917 non-null  object \n",
      " 1   feature_1                201917 non-null  int64  \n",
      " 2   feature_2                201917 non-null  int64  \n",
      " 3   feature_3                201917 non-null  int64  \n",
      " 4   target                   201917 non-null  float64\n",
      " 5   year_of_first_active     201917 non-null  int32  \n",
      " 6   quarter_of_first_active  201917 non-null  int32  \n",
      " 7   month_of_first_active    201917 non-null  int32  \n",
      " 8   active_days              201917 non-null  int64  \n",
      "dtypes: float64(1), int32(3), int64(4), object(1)\n",
      "memory usage: 11.6+ MB\n"
     ]
    }
   ],
   "source": [
    "convert_type(df_train)\n",
    "df_train.info(show_counts=True)"
   ]
  },
  {
   "cell_type": "code",
   "execution_count": 13,
   "id": "c2bb773e-9491-484b-a417-503f20a81b41",
   "metadata": {
    "scrolled": true
   },
   "outputs": [
    {
     "name": "stdout",
     "output_type": "stream",
     "text": [
      "<class 'pandas.core.frame.DataFrame'>\n",
      "RangeIndex: 123623 entries, 0 to 123622\n",
      "Data columns (total 8 columns):\n",
      " #   Column                   Non-Null Count   Dtype \n",
      "---  ------                   --------------   ----- \n",
      " 0   card_id                  123623 non-null  object\n",
      " 1   feature_1                123623 non-null  int64 \n",
      " 2   feature_2                123623 non-null  int64 \n",
      " 3   feature_3                123623 non-null  int64 \n",
      " 4   year_of_first_active     123623 non-null  int32 \n",
      " 5   quarter_of_first_active  123623 non-null  int32 \n",
      " 6   month_of_first_active    123623 non-null  int32 \n",
      " 7   active_days              123623 non-null  int64 \n",
      "dtypes: int32(3), int64(4), object(1)\n",
      "memory usage: 6.1+ MB\n"
     ]
    }
   ],
   "source": [
    "convert_type(df_test)\n",
    "df_test.info(show_counts=True)"
   ]
  },
  {
   "cell_type": "code",
   "execution_count": 14,
   "id": "4f1ac36b",
   "metadata": {
    "scrolled": true
   },
   "outputs": [
    {
     "name": "stdout",
     "output_type": "stream",
     "text": [
      "<class 'pandas.core.frame.DataFrame'>\n",
      "RangeIndex: 334696 entries, 0 to 334695\n",
      "Data columns (total 22 columns):\n",
      " #   Column                       Non-Null Count   Dtype  \n",
      "---  ------                       --------------   -----  \n",
      " 0   merchant_id                  334696 non-null  object \n",
      " 1   merchant_group_id            334696 non-null  int64  \n",
      " 2   merchant_category_id         334696 non-null  int64  \n",
      " 3   subsector_id                 334696 non-null  int64  \n",
      " 4   numerical_1                  334696 non-null  float64\n",
      " 5   numerical_2                  334696 non-null  float64\n",
      " 6   category_1                   334696 non-null  object \n",
      " 7   most_recent_sales_range      334696 non-null  object \n",
      " 8   most_recent_purchases_range  334696 non-null  object \n",
      " 9   avg_sales_lag3               334683 non-null  float64\n",
      " 10  avg_purchases_lag3           334696 non-null  float64\n",
      " 11  active_months_lag3           334696 non-null  int64  \n",
      " 12  avg_sales_lag6               334683 non-null  float64\n",
      " 13  avg_purchases_lag6           334696 non-null  float64\n",
      " 14  active_months_lag6           334696 non-null  int64  \n",
      " 15  avg_sales_lag12              334683 non-null  float64\n",
      " 16  avg_purchases_lag12          334696 non-null  float64\n",
      " 17  active_months_lag12          334696 non-null  int64  \n",
      " 18  category_4                   334696 non-null  object \n",
      " 19  city_id                      334696 non-null  int64  \n",
      " 20  state_id                     334696 non-null  int64  \n",
      " 21  category_2                   322809 non-null  float64\n",
      "dtypes: float64(9), int64(8), object(5)\n",
      "memory usage: 56.2+ MB\n"
     ]
    }
   ],
   "source": [
    "df_merchants = pd.read_csv('data/merchants.csv')\n",
    "df_merchants.info(show_counts=True)"
   ]
  },
  {
   "cell_type": "code",
   "execution_count": 15,
   "id": "1f4c2136-d868-441d-b309-0aa9305ea5ee",
   "metadata": {
    "scrolled": true
   },
   "outputs": [
    {
     "name": "stdout",
     "output_type": "stream",
     "text": [
      "<class 'pandas.core.frame.DataFrame'>\n",
      "RangeIndex: 334696 entries, 0 to 334695\n",
      "Data columns (total 22 columns):\n",
      " #   Column                       Non-Null Count   Dtype  \n",
      "---  ------                       --------------   -----  \n",
      " 0   merchant_id                  334696 non-null  object \n",
      " 1   merchant_group_id            334696 non-null  int64  \n",
      " 2   merchant_category_id         334696 non-null  int64  \n",
      " 3   subsector_id                 334696 non-null  int64  \n",
      " 4   numerical_1                  334696 non-null  float64\n",
      " 5   numerical_2                  334696 non-null  float64\n",
      " 6   category_1                   334696 non-null  object \n",
      " 7   most_recent_sales_range      334696 non-null  object \n",
      " 8   most_recent_purchases_range  334696 non-null  object \n",
      " 9   avg_sales_lag3               334696 non-null  float64\n",
      " 10  avg_purchases_lag3           334696 non-null  float64\n",
      " 11  active_months_lag3           334696 non-null  int64  \n",
      " 12  avg_sales_lag6               334696 non-null  float64\n",
      " 13  avg_purchases_lag6           334696 non-null  float64\n",
      " 14  active_months_lag6           334696 non-null  int64  \n",
      " 15  avg_sales_lag12              334696 non-null  float64\n",
      " 16  avg_purchases_lag12          334696 non-null  float64\n",
      " 17  active_months_lag12          334696 non-null  int64  \n",
      " 18  category_4                   334696 non-null  object \n",
      " 19  city_id                      334696 non-null  int64  \n",
      " 20  state_id                     334696 non-null  int64  \n",
      " 21  category_2                   334696 non-null  float64\n",
      "dtypes: float64(9), int64(8), object(5)\n",
      "memory usage: 56.2+ MB\n"
     ]
    }
   ],
   "source": [
    "convert_type(df_merchants)\n",
    "df_merchants['category_2'] = df_merchants['category_2'].fillna(1.0)\n",
    "\n",
    "for f in ['avg_sales_lag3','avg_sales_lag6','avg_sales_lag12']:\n",
    "    df_merchants[f] = df_merchants[f].fillna(df_merchants[f].mean())\n",
    "\n",
    "for f in ['avg_purchases_lag3','avg_purchases_lag6','avg_purchases_lag12']:\n",
    "    df_merchants[f] = df_merchants[f].replace([np.inf, -np.inf], np.nan)\n",
    "    df_merchants[f] = df_merchants[f].fillna(df_merchants[f].mean())\n",
    "\n",
    "#df_merchants = reduce_mem_usage(df_merchants)\n",
    "df_merchants.info(show_counts=True)"
   ]
  },
  {
   "cell_type": "code",
   "execution_count": 16,
   "id": "288f902f-eb7e-4c6e-a604-f31b510b5adc",
   "metadata": {},
   "outputs": [
    {
     "name": "stdout",
     "output_type": "stream",
     "text": [
      "<class 'pandas.core.frame.DataFrame'>\n",
      "RangeIndex: 29112361 entries, 0 to 29112360\n",
      "Data columns (total 8 columns):\n",
      " #   Column           Non-Null Count     Dtype  \n",
      "---  ------           --------------     -----  \n",
      " 0   authorized_flag  29112361 non-null  object \n",
      " 1   card_id          29112361 non-null  object \n",
      " 2   installments     29112361 non-null  int64  \n",
      " 3   category_3       28934202 non-null  object \n",
      " 4   merchant_id      28973880 non-null  object \n",
      " 5   month_lag        29112361 non-null  int64  \n",
      " 6   purchase_amount  29112361 non-null  float64\n",
      " 7   purchase_date    29112361 non-null  object \n",
      "dtypes: float64(1), int64(2), object(5)\n",
      "memory usage: 1.7+ GB\n"
     ]
    }
   ],
   "source": [
    "df_hist = pd.read_csv('data/historical_transactions.csv')\n",
    "df_hist.drop(columns=[feat for feat in df_merchants.columns.tolist() if feat in df_hist.columns.tolist() and feat != 'merchant_id'], inplace=True)\n",
    "df_hist.info(show_counts=True)"
   ]
  },
  {
   "cell_type": "code",
   "execution_count": 17,
   "id": "63163454-2b9d-43a9-abbc-181f8a7c6e16",
   "metadata": {},
   "outputs": [
    {
     "name": "stdout",
     "output_type": "stream",
     "text": [
      "<class 'pandas.core.frame.DataFrame'>\n",
      "RangeIndex: 29112361 entries, 0 to 29112360\n",
      "Data columns (total 8 columns):\n",
      " #   Column           Non-Null Count     Dtype  \n",
      "---  ------           --------------     -----  \n",
      " 0   authorized_flag  29112361 non-null  object \n",
      " 1   card_id          29112361 non-null  object \n",
      " 2   installments     29112361 non-null  int64  \n",
      " 3   category_3       29112361 non-null  object \n",
      " 4   merchant_id      29112361 non-null  object \n",
      " 5   month_lag        29112361 non-null  int64  \n",
      " 6   purchase_amount  29112361 non-null  float64\n",
      " 7   purchase_date    29112361 non-null  object \n",
      "dtypes: float64(1), int64(2), object(5)\n",
      "memory usage: 1.7+ GB\n"
     ]
    }
   ],
   "source": [
    "df_hist['category_3'] = df_hist['category_3'].fillna('A')\n",
    "df_hist['merchant_id'] = df_hist['merchant_id'].fillna('M_ID_00a6ca8a8a')\n",
    "#df_hist = reduce_mem_usage(df_hist)\n",
    "df_hist.info(show_counts=True)"
   ]
  },
  {
   "cell_type": "code",
   "execution_count": 18,
   "id": "e3ed025b-a43b-49af-ba9d-9d5521267794",
   "metadata": {
    "scrolled": true
   },
   "outputs": [
    {
     "name": "stdout",
     "output_type": "stream",
     "text": [
      "<class 'pandas.core.frame.DataFrame'>\n",
      "RangeIndex: 30472261 entries, 0 to 30472260\n",
      "Data columns (total 29 columns):\n",
      " #   Column                       Non-Null Count     Dtype  \n",
      "---  ------                       --------------     -----  \n",
      " 0   authorized_flag              30472261 non-null  object \n",
      " 1   card_id                      30472261 non-null  object \n",
      " 2   installments                 30472261 non-null  int64  \n",
      " 3   category_3                   30472261 non-null  object \n",
      " 4   merchant_id                  30472261 non-null  object \n",
      " 5   month_lag                    30472261 non-null  int64  \n",
      " 6   purchase_amount              30472261 non-null  float64\n",
      " 7   purchase_date                30472261 non-null  object \n",
      " 8   merchant_group_id            30472261 non-null  int64  \n",
      " 9   merchant_category_id         30472261 non-null  int64  \n",
      " 10  subsector_id                 30472261 non-null  int64  \n",
      " 11  numerical_1                  30472261 non-null  float64\n",
      " 12  numerical_2                  30472261 non-null  float64\n",
      " 13  category_1                   30472261 non-null  object \n",
      " 14  most_recent_sales_range      30472261 non-null  object \n",
      " 15  most_recent_purchases_range  30472261 non-null  object \n",
      " 16  avg_sales_lag3               30472261 non-null  float64\n",
      " 17  avg_purchases_lag3           30472261 non-null  float64\n",
      " 18  active_months_lag3           30472261 non-null  int64  \n",
      " 19  avg_sales_lag6               30472261 non-null  float64\n",
      " 20  avg_purchases_lag6           30472261 non-null  float64\n",
      " 21  active_months_lag6           30472261 non-null  int64  \n",
      " 22  avg_sales_lag12              30472261 non-null  float64\n",
      " 23  avg_purchases_lag12          30472261 non-null  float64\n",
      " 24  active_months_lag12          30472261 non-null  int64  \n",
      " 25  category_4                   30472261 non-null  object \n",
      " 26  city_id                      30472261 non-null  int64  \n",
      " 27  state_id                     30472261 non-null  int64  \n",
      " 28  category_2                   30472261 non-null  float64\n",
      "dtypes: float64(10), int64(10), object(9)\n",
      "memory usage: 6.6+ GB\n"
     ]
    }
   ],
   "source": [
    "df_hist_merch = pd.merge(df_hist, df_merchants, on='merchant_id', how='left')\n",
    "df_hist_merch.info(show_counts=True)"
   ]
  },
  {
   "cell_type": "code",
   "execution_count": 19,
   "id": "249ec2da-677b-46a5-9d93-88ffee6aee14",
   "metadata": {
    "scrolled": true
   },
   "outputs": [
    {
     "name": "stdout",
     "output_type": "stream",
     "text": [
      "<class 'pandas.core.frame.DataFrame'>\n",
      "RangeIndex: 1963031 entries, 0 to 1963030\n",
      "Data columns (total 8 columns):\n",
      " #   Column           Non-Null Count    Dtype  \n",
      "---  ------           --------------    -----  \n",
      " 0   authorized_flag  1963031 non-null  object \n",
      " 1   card_id          1963031 non-null  object \n",
      " 2   installments     1963031 non-null  int64  \n",
      " 3   category_3       1907109 non-null  object \n",
      " 4   merchant_id      1936815 non-null  object \n",
      " 5   month_lag        1963031 non-null  int64  \n",
      " 6   purchase_amount  1963031 non-null  float64\n",
      " 7   purchase_date    1963031 non-null  object \n",
      "dtypes: float64(1), int64(2), object(5)\n",
      "memory usage: 119.8+ MB\n"
     ]
    }
   ],
   "source": [
    "df_new = pd.read_csv('data/new_merchant_transactions.csv')\n",
    "df_new.drop(columns=[feat for feat in df_merchants.columns.tolist() if feat in df_new.columns.tolist() and feat != 'merchant_id'], inplace=True)\n",
    "df_new.info(show_counts=True)"
   ]
  },
  {
   "cell_type": "code",
   "execution_count": 20,
   "id": "b26615f6-4f0d-40a7-97e4-0d5244d79d4c",
   "metadata": {
    "scrolled": true
   },
   "outputs": [
    {
     "name": "stdout",
     "output_type": "stream",
     "text": [
      "<class 'pandas.core.frame.DataFrame'>\n",
      "RangeIndex: 1963031 entries, 0 to 1963030\n",
      "Data columns (total 8 columns):\n",
      " #   Column           Non-Null Count    Dtype  \n",
      "---  ------           --------------    -----  \n",
      " 0   authorized_flag  1963031 non-null  object \n",
      " 1   card_id          1963031 non-null  object \n",
      " 2   installments     1963031 non-null  int64  \n",
      " 3   category_3       1963031 non-null  object \n",
      " 4   merchant_id      1963031 non-null  object \n",
      " 5   month_lag        1963031 non-null  int64  \n",
      " 6   purchase_amount  1963031 non-null  float64\n",
      " 7   purchase_date    1963031 non-null  object \n",
      "dtypes: float64(1), int64(2), object(5)\n",
      "memory usage: 119.8+ MB\n"
     ]
    }
   ],
   "source": [
    "df_new['category_3'] = df_new['category_3'].fillna('A')\n",
    "df_new['merchant_id'] = df_new['merchant_id'].fillna('M_ID_00a6ca8a8a')\n",
    "#df_new = reduce_mem_usage(df_new)\n",
    "df_new.info(show_counts=True)"
   ]
  },
  {
   "cell_type": "code",
   "execution_count": 21,
   "id": "f8e096d6-f6da-4f33-a3df-549439d375be",
   "metadata": {
    "scrolled": true
   },
   "outputs": [
    {
     "name": "stdout",
     "output_type": "stream",
     "text": [
      "<class 'pandas.core.frame.DataFrame'>\n",
      "RangeIndex: 2021111 entries, 0 to 2021110\n",
      "Data columns (total 29 columns):\n",
      " #   Column                       Non-Null Count    Dtype  \n",
      "---  ------                       --------------    -----  \n",
      " 0   authorized_flag              2021111 non-null  object \n",
      " 1   card_id                      2021111 non-null  object \n",
      " 2   installments                 2021111 non-null  int64  \n",
      " 3   category_3                   2021111 non-null  object \n",
      " 4   merchant_id                  2021111 non-null  object \n",
      " 5   month_lag                    2021111 non-null  int64  \n",
      " 6   purchase_amount              2021111 non-null  float64\n",
      " 7   purchase_date                2021111 non-null  object \n",
      " 8   merchant_group_id            2021111 non-null  int64  \n",
      " 9   merchant_category_id         2021111 non-null  int64  \n",
      " 10  subsector_id                 2021111 non-null  int64  \n",
      " 11  numerical_1                  2021111 non-null  float64\n",
      " 12  numerical_2                  2021111 non-null  float64\n",
      " 13  category_1                   2021111 non-null  object \n",
      " 14  most_recent_sales_range      2021111 non-null  object \n",
      " 15  most_recent_purchases_range  2021111 non-null  object \n",
      " 16  avg_sales_lag3               2021111 non-null  float64\n",
      " 17  avg_purchases_lag3           2021111 non-null  float64\n",
      " 18  active_months_lag3           2021111 non-null  int64  \n",
      " 19  avg_sales_lag6               2021111 non-null  float64\n",
      " 20  avg_purchases_lag6           2021111 non-null  float64\n",
      " 21  active_months_lag6           2021111 non-null  int64  \n",
      " 22  avg_sales_lag12              2021111 non-null  float64\n",
      " 23  avg_purchases_lag12          2021111 non-null  float64\n",
      " 24  active_months_lag12          2021111 non-null  int64  \n",
      " 25  category_4                   2021111 non-null  object \n",
      " 26  city_id                      2021111 non-null  int64  \n",
      " 27  state_id                     2021111 non-null  int64  \n",
      " 28  category_2                   2021111 non-null  float64\n",
      "dtypes: float64(10), int64(10), object(9)\n",
      "memory usage: 447.2+ MB\n"
     ]
    }
   ],
   "source": [
    "df_new_merch = pd.merge(df_new, df_merchants, on='merchant_id', how='left')\n",
    "df_new_merch.info(show_counts=True)"
   ]
  },
  {
   "cell_type": "markdown",
   "id": "d2af61b0-4d88-4163-8b6f-186bfcd4c08d",
   "metadata": {},
   "source": [
    "# Dissect Dates"
   ]
  },
  {
   "cell_type": "code",
   "execution_count": 22,
   "id": "ae7b8d8f-5256-450e-afcb-7badc824478e",
   "metadata": {
    "scrolled": true
   },
   "outputs": [
    {
     "name": "stderr",
     "output_type": "stream",
     "text": [
      "C:\\Users\\SQ\\AppData\\Local\\Temp\\ipykernel_27716\\161140300.py:18: UserWarning: Could not infer format, so each element will be parsed individually, falling back to `dateutil`. To ensure parsing is consistent and as-expected, please specify a format.\n",
      "  holiday_dates = pd.to_datetime(holiday_dates)\n"
     ]
    }
   ],
   "source": [
    "def get_time_of_day(time):\n",
    "  if 4 <= time.hour < 12:\n",
    "    return \"Morning\"\n",
    "  elif 12 <= time.hour < 17:\n",
    "    return \"Afternoon\"\n",
    "  elif 17 <= time.hour < 22:\n",
    "    return \"Evening\"\n",
    "  else:\n",
    "    return \"Night\"\n",
    "\n",
    "holiday_dates=['01-01-17', '14-02-17', '28-08-17', '14-04-17', '16-04-17', '21-04-17',\n",
    "            '01-05-17', '15-06-17', '07-09-17', '12-10-17', '02-11-17', '15-11-17', \n",
    "            '24-12-17', '25-12-17', '31-12-17',\n",
    "            '01-01-18', '14-02-18', '28-08-18', '14-04-18', '16-04-18', '21-04-18',\n",
    "            '01-05-18', '15-06-18', '07-09-18', '12-10-18', '02-11-18', '15-11-18', \n",
    "            '24-12-18', '25-12-18', '31-12-18']\n",
    "\n",
    "holiday_dates = pd.to_datetime(holiday_dates)\n",
    "\n",
    "for df in [df_hist_merch, df_new_merch]:\n",
    "    df['purchase_date'] = pd.to_datetime(df['purchase_date'])\n",
    "    df['days_since_purchase'] = (pd.to_datetime('2018-02-01')-df['purchase_date']).dt.days.astype('int16')\n",
    "    df['purchase_year'] = df['purchase_date'].dt.year\n",
    "    df['purchase_week_of_year'] = df['purchase_date'].dt.isocalendar().week\n",
    "    df['purchase_quarter'] = df['purchase_date'].dt.quarter\n",
    "    df['purchase_month'] = df['purchase_date'].dt.month\n",
    "    df['purchase_day'] = df['purchase_date'].dt.day\n",
    "    df['purchase_day_of_week'] = df['purchase_date'].dt.dayofweek\n",
    "    df['purchase_on_weekend'] = (df['purchase_date'].dt.weekday>=5)\n",
    "    df['purchase_hour'] = df['purchase_date'].dt.hour\n",
    "    df['purchase_time_of_day'] = df['purchase_date'].apply(get_time_of_day)\n",
    "    df['purchase_during_holiday'] = df['purchase_date'].isin(holiday_dates)\n",
    "\n",
    "    df.drop(columns='purchase_date', axis=1, inplace=True)"
   ]
  },
  {
   "cell_type": "markdown",
   "id": "aa502c1b",
   "metadata": {},
   "source": [
    "# Encoding Features"
   ]
  },
  {
   "cell_type": "code",
   "execution_count": 23,
   "id": "f27c2146",
   "metadata": {
    "scrolled": true
   },
   "outputs": [],
   "source": [
    "encoded_features = ['category_1','category_2','category_3','category_4',\n",
    "                    'authorized_flag','most_recent_sales_range','most_recent_purchases_range']  \n",
    "\n",
    "df_hist_merch_en = pd.get_dummies(df_hist_merch, columns=encoded_features)\n",
    "df_new_merch_en = pd.get_dummies(df_new_merch, columns=encoded_features)\n",
    "\n",
    "#df_hist_merch = reduce_mem_usage(df_hist_merch)\n",
    "#df_new_merch = reduce_mem_usage(df_new_merch)"
   ]
  },
  {
   "cell_type": "markdown",
   "id": "0fd10f9b-f917-41d2-a9bc-f1943c1d8bf9",
   "metadata": {},
   "source": [
    "# Aggregation"
   ]
  },
  {
   "cell_type": "code",
   "execution_count": 25,
   "id": "8b1ee3f7",
   "metadata": {},
   "outputs": [],
   "source": [
    "def agg_features(df):\n",
    "    agg_func = {}\n",
    "    \n",
    "    for feat in df.columns.tolist():\n",
    "        if feat in ['card_id']:\n",
    "            agg_func[feat] = ['nunique']  \n",
    "        elif feat in ['purchase_date']:\n",
    "            continue\n",
    "        elif feat in ['month_lag','installments','purchase_amount',\n",
    "                      'numerical_1','numerical_2','days_since_purchase',\n",
    "                    'avg_sales_lag3','avg_purchases_lag3','active_months_lag3',\n",
    "                    'avg_sales_lag6','avg_purchases_lag6','active_months_lag6',\n",
    "                    'avg_sales_lag12','avg_purchases_lag12','active_months_lag12']:\n",
    "            agg_func[feat] = ['sum','mean','min','max','var','std','nunique',lambda x: x.mode().iloc[0]]\n",
    "        elif feat in ['purchase_year','purchase_week_of_year','purchase_quarter',\n",
    "                      'purchase_month','purchase_day','purchase_day_of_week','purchase_hour']:\n",
    "            agg_func[feat] = ['mean','min','max','nunique',lambda x: x.mode().iloc[0]]\n",
    "        else:\n",
    "            agg_func[feat] = ['nunique',lambda x: x.mode().iloc[0]]\n",
    "\n",
    "    df = df.groupby('card_id', observed=False).agg(agg_func)\n",
    "    df.columns = [f'{col}_{agg}' for col, agg in df.columns]\n",
    "    df.columns = df.columns.str.replace('_<lambda_0>', '_mode', regex=False)\n",
    "    df.columns = df.columns.str.replace('_<lambda>', '', regex=False)\n",
    "    return df.reset_index()"
   ]
  },
  {
   "cell_type": "code",
   "execution_count": 26,
   "id": "9aed473f-0e1a-413f-b129-86182dd4a438",
   "metadata": {},
   "outputs": [],
   "source": [
    "# ~45mins to run\n",
    "df_hist_merch_agg = agg_features(df_hist_merch_en)"
   ]
  },
  {
   "cell_type": "code",
   "execution_count": 68,
   "id": "128d7266-9600-4c2d-88de-024b29358dc5",
   "metadata": {},
   "outputs": [],
   "source": [
    "# ~45mins to run\n",
    "df_new_merch_agg = agg_features(df_new_merch_en)"
   ]
  },
  {
   "cell_type": "code",
   "execution_count": 28,
   "id": "c9f81ab4-48f8-4c4b-9c9c-6ab9d39a5afa",
   "metadata": {},
   "outputs": [],
   "source": [
    "df_combined = pd.concat([df_hist_merch_en, df_new_merch_en], axis=0)\n",
    "df_combined_agg = agg_features(df_combined)"
   ]
  },
  {
   "cell_type": "markdown",
   "id": "5f140d92-001e-453d-b196-20c047b47c48",
   "metadata": {},
   "source": [
    "# Merge with Train/Test Data"
   ]
  },
  {
   "cell_type": "code",
   "execution_count": 69,
   "id": "fe0a1e21-f91b-4e54-b8d8-8c4b650f6f4a",
   "metadata": {
    "scrolled": true
   },
   "outputs": [
    {
     "name": "stdout",
     "output_type": "stream",
     "text": [
      "<class 'pandas.core.frame.DataFrame'>\n",
      "RangeIndex: 201917 entries, 0 to 201916\n",
      "Columns: 231 entries, card_id to most_recent_purchases_range_E_mode\n",
      "dtypes: Float64(1), UInt32(3), bool(26), float64(88), int16(3), int32(21), int64(86), object(3)\n",
      "memory usage: 299.6+ MB\n"
     ]
    }
   ],
   "source": [
    "train_merge1 = pd.merge(df_train, df_hist_merch_agg, on='card_id', how='left')\n",
    "train_merge1.info(show_counts=True)"
   ]
  },
  {
   "cell_type": "code",
   "execution_count": 70,
   "id": "c3892ff3-2554-4b7c-8083-6259c9172dfe",
   "metadata": {},
   "outputs": [
    {
     "name": "stdout",
     "output_type": "stream",
     "text": [
      "<class 'pandas.core.frame.DataFrame'>\n",
      "RangeIndex: 201917 entries, 0 to 201916\n",
      "Columns: 451 entries, card_id to most_recent_purchases_range_E_mode_y\n",
      "dtypes: Float64(2), UInt32(6), bool(26), float64(277), int16(3), int32(21), int64(86), object(30)\n",
      "memory usage: 637.0+ MB\n"
     ]
    }
   ],
   "source": [
    "train_merge2 = pd.merge(train_merge1, df_new_merch_agg, on='card_id', how='left')\n",
    "train_merge2.info(show_counts=True)"
   ]
  },
  {
   "cell_type": "code",
   "execution_count": 71,
   "id": "998e3480-846d-41e5-a776-daf7b91d2470",
   "metadata": {
    "scrolled": true
   },
   "outputs": [
    {
     "name": "stdout",
     "output_type": "stream",
     "text": [
      "<class 'pandas.core.frame.DataFrame'>\n",
      "RangeIndex: 123623 entries, 0 to 123622\n",
      "Columns: 230 entries, card_id to most_recent_purchases_range_E_mode\n",
      "dtypes: Float64(1), UInt32(3), bool(26), float64(87), int16(3), int32(21), int64(86), object(3)\n",
      "memory usage: 182.5+ MB\n"
     ]
    }
   ],
   "source": [
    "test_merge1 = pd.merge(df_test, df_hist_merch_agg, on='card_id', how='left')\n",
    "test_merge1.info(show_counts=True)"
   ]
  },
  {
   "cell_type": "code",
   "execution_count": 72,
   "id": "ca99b19d-b23d-4c5e-8cea-c05c7e5b80f3",
   "metadata": {},
   "outputs": [
    {
     "name": "stdout",
     "output_type": "stream",
     "text": [
      "<class 'pandas.core.frame.DataFrame'>\n",
      "RangeIndex: 201917 entries, 0 to 201916\n",
      "Columns: 673 entries, card_id to most_recent_purchases_range_E_mode\n",
      "dtypes: Float64(3), UInt32(9), bool(52), float64(364), int16(6), int32(39), int64(168), object(32)\n",
      "memory usage: 925.1+ MB\n"
     ]
    }
   ],
   "source": [
    "train_merge3 = pd.merge(train_merge2, df_combined_agg, on='card_id', how='left')\n",
    "train_merge3.info(show_counts=True)"
   ]
  },
  {
   "cell_type": "code",
   "execution_count": 73,
   "id": "afd5ef55-0ee6-4596-881a-2a335c26b140",
   "metadata": {},
   "outputs": [
    {
     "name": "stdout",
     "output_type": "stream",
     "text": [
      "<class 'pandas.core.frame.DataFrame'>\n",
      "RangeIndex: 201917 entries, 0 to 201916\n",
      "Columns: 673 entries, card_id to most_recent_purchases_range_E_mode\n",
      "dtypes: Float64(3), bool(52), float32(9), float64(364), int16(6), int32(39), int64(168), object(32)\n",
      "memory usage: 923.3+ MB\n"
     ]
    }
   ],
   "source": [
    "# One feature supposedly to be float is UInt32, can't find out which is it\n",
    "for f in train_merge3.columns.tolist():\n",
    "    if train_merge3[f].dtype == 'UInt32':\n",
    "        train_merge3[f] = train_merge3[f].astype('float32')\n",
    "\n",
    "train_merge3.info(show_counts=True)"
   ]
  },
  {
   "cell_type": "code",
   "execution_count": 74,
   "id": "8c768463-dfae-4dfe-b912-efb1e270ed91",
   "metadata": {},
   "outputs": [
    {
     "name": "stdout",
     "output_type": "stream",
     "text": [
      "<class 'pandas.core.frame.DataFrame'>\n",
      "RangeIndex: 123623 entries, 0 to 123622\n",
      "Columns: 450 entries, card_id to most_recent_purchases_range_E_mode_y\n",
      "dtypes: Float64(2), UInt32(6), bool(26), float64(276), int16(3), int32(21), int64(86), object(30)\n",
      "memory usage: 389.1+ MB\n"
     ]
    }
   ],
   "source": [
    "test_merge2 = pd.merge(test_merge1, df_new_merch_agg, on='card_id', how='left')\n",
    "test_merge2.info(show_counts=True)"
   ]
  },
  {
   "cell_type": "code",
   "execution_count": 75,
   "id": "e000b271-0d84-4a74-908b-68c541c477dc",
   "metadata": {},
   "outputs": [
    {
     "name": "stdout",
     "output_type": "stream",
     "text": [
      "<class 'pandas.core.frame.DataFrame'>\n",
      "RangeIndex: 123623 entries, 0 to 123622\n",
      "Columns: 672 entries, card_id to most_recent_purchases_range_E_mode\n",
      "dtypes: Float64(3), UInt32(9), bool(52), float64(363), int16(6), int32(39), int64(168), object(32)\n",
      "memory usage: 565.4+ MB\n"
     ]
    }
   ],
   "source": [
    "test_merge3 = pd.merge(test_merge2, df_combined_agg, on='card_id', how='left')\n",
    "test_merge3.info(show_counts=True)"
   ]
  },
  {
   "cell_type": "code",
   "execution_count": 76,
   "id": "14e746b8-a906-4764-84b9-3a205d75e128",
   "metadata": {},
   "outputs": [
    {
     "name": "stdout",
     "output_type": "stream",
     "text": [
      "<class 'pandas.core.frame.DataFrame'>\n",
      "RangeIndex: 123623 entries, 0 to 123622\n",
      "Columns: 672 entries, card_id to most_recent_purchases_range_E_mode\n",
      "dtypes: Float64(3), bool(52), float32(9), float64(363), int16(6), int32(39), int64(168), object(32)\n",
      "memory usage: 564.4+ MB\n"
     ]
    }
   ],
   "source": [
    "# One feature supposedly to be float is UInt32, can't find out which is it\n",
    "for f in test_merge3.columns.tolist():\n",
    "    if test_merge3[f].dtype == 'UInt32':\n",
    "        test_merge3[f] = test_merge3[f].astype('float32')\n",
    "\n",
    "test_merge3.info(show_counts=True)"
   ]
  },
  {
   "cell_type": "code",
   "execution_count": 77,
   "id": "fc187bfe-329e-4169-b544-d5a9006dce26",
   "metadata": {},
   "outputs": [],
   "source": [
    "train_merge3.to_csv('data/train_data.csv', index=False)"
   ]
  },
  {
   "cell_type": "code",
   "execution_count": 78,
   "id": "2169ad52-f78e-42f0-997a-58c2457adb87",
   "metadata": {},
   "outputs": [],
   "source": [
    "test_merge3.to_csv('data/test_data.csv', index=False)"
   ]
  },
  {
   "cell_type": "code",
   "execution_count": null,
   "id": "07bccf34-37b0-4122-9acb-fb94b995fb0c",
   "metadata": {},
   "outputs": [],
   "source": []
  }
 ],
 "metadata": {
  "kernelspec": {
   "display_name": "Python 3 (ipykernel)",
   "language": "python",
   "name": "python3"
  },
  "language_info": {
   "codemirror_mode": {
    "name": "ipython",
    "version": 3
   },
   "file_extension": ".py",
   "mimetype": "text/x-python",
   "name": "python",
   "nbconvert_exporter": "python",
   "pygments_lexer": "ipython3",
   "version": "3.11.10"
  }
 },
 "nbformat": 4,
 "nbformat_minor": 5
}
