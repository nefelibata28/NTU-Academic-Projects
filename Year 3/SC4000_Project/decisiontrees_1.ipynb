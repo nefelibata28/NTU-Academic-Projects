{
 "cells": [
  {
   "cell_type": "code",
   "execution_count": 37,
   "metadata": {
    "colab": {
     "base_uri": "https://localhost:8080/"
    },
    "id": "WBQoC9imsqXD",
    "outputId": "a39333c6-99ef-451b-c2d0-c7f6a1f1dbc7"
   },
   "outputs": [
    {
     "name": "stdout",
     "output_type": "stream",
     "text": [
      "['code.ipynb', 'Data Dictionary.xlsx', 'Data_Dictionary.xlsx', 'historical_transactions.csv', 'merchants.csv', 'new_merchant_transactions.csv', 'sample_submission.csv', 'test.csv', 'test_data.csv', 'train.csv', 'train_data.csv']\n"
     ]
    }
   ],
   "source": [
    "import os\n",
    "\n",
    "# List all files in a folder\n",
    "folder_path = './'\n",
    "print(os.listdir(folder_path))\n"
   ]
  },
  {
   "cell_type": "code",
   "execution_count": 38,
   "metadata": {
    "id": "8404LnhztC3D"
   },
   "outputs": [],
   "source": [
    "import numpy as np # linear algebra\n",
    "import pandas as pd\n",
    "import numpy as np\n",
    "import pandas as pd\n",
    "import os\n",
    "import time\n",
    "import warnings\n",
    "import gc\n",
    "gc.collect()\n",
    "import os\n",
    "import matplotlib\n",
    "import matplotlib.pyplot as plt\n",
    "import seaborn as sns\n",
    "import datetime\n",
    "warnings.filterwarnings('ignore')\n",
    "%matplotlib inline\n",
    "\n",
    "from scipy.stats import norm, skew\n",
    "from sklearn.preprocessing import StandardScaler"
   ]
  },
  {
   "cell_type": "code",
   "execution_count": 39,
   "metadata": {
    "colab": {
     "base_uri": "https://localhost:8080/"
    },
    "id": "TNuRHPD0tnE2",
    "outputId": "ca65ea0e-b367-4ae1-ccb0-61d2cb2c0881"
   },
   "outputs": [
    {
     "data": {
      "text/plain": [
       "11"
      ]
     },
     "execution_count": 39,
     "metadata": {},
     "output_type": "execute_result"
    }
   ],
   "source": [
    "from sklearn.utils import shuffle\n",
    "from sklearn.pipeline import Pipeline\n",
    "from sklearn.pipeline import FeatureUnion\n",
    "\n",
    "# Models\n",
    "\n",
    "from sklearn.linear_model import Lasso\n",
    "from sklearn.metrics import mean_squared_log_error,mean_squared_error, r2_score,mean_absolute_error\n",
    "\n",
    "from sklearn.model_selection import train_test_split #training and testing data split\n",
    "from sklearn import metrics #accuracy measure\n",
    "from sklearn.metrics import confusion_matrix #for confusion matrix\n",
    "from scipy.stats import reciprocal, uniform\n",
    "\n",
    "from sklearn.model_selection import StratifiedKFold, RepeatedKFold\n",
    "\n",
    "# Cross-validation\n",
    "from sklearn.model_selection import KFold #for K-fold cross validation\n",
    "from sklearn.model_selection import cross_val_score #score evaluation\n",
    "from sklearn.model_selection import cross_val_predict #prediction\n",
    "from sklearn.model_selection import cross_validate\n",
    "\n",
    "# GridSearchCV\n",
    "from sklearn.model_selection import GridSearchCV\n",
    "from sklearn.model_selection import RandomizedSearchCV\n",
    "#Common data processors\n",
    "from sklearn.preprocessing import OneHotEncoder, LabelEncoder\n",
    "from sklearn import feature_selection\n",
    "from sklearn import model_selection\n",
    "from sklearn import metrics\n",
    "from sklearn.base import BaseEstimator, TransformerMixin\n",
    "from sklearn.utils import check_array\n",
    "from scipy import sparse\n",
    "np.random.seed(123)\n",
    "gc.collect()"
   ]
  },
  {
   "cell_type": "code",
   "execution_count": 40,
   "metadata": {
    "colab": {
     "base_uri": "https://localhost:8080/",
     "height": 206
    },
    "id": "neDYfeSRy02g",
    "outputId": "ac0631e5-48fc-414d-d4f2-4c667499071f"
   },
   "outputs": [
    {
     "data": {
      "text/html": [
       "<div>\n",
       "<style scoped>\n",
       "    .dataframe tbody tr th:only-of-type {\n",
       "        vertical-align: middle;\n",
       "    }\n",
       "\n",
       "    .dataframe tbody tr th {\n",
       "        vertical-align: top;\n",
       "    }\n",
       "\n",
       "    .dataframe thead th {\n",
       "        text-align: right;\n",
       "    }\n",
       "</style>\n",
       "<table border=\"1\" class=\"dataframe\">\n",
       "  <thead>\n",
       "    <tr style=\"text-align: right;\">\n",
       "      <th></th>\n",
       "      <th>first_active_month</th>\n",
       "      <th>card_id</th>\n",
       "      <th>feature_1</th>\n",
       "      <th>feature_2</th>\n",
       "      <th>feature_3</th>\n",
       "      <th>target</th>\n",
       "    </tr>\n",
       "  </thead>\n",
       "  <tbody>\n",
       "    <tr>\n",
       "      <th>0</th>\n",
       "      <td>2017-06</td>\n",
       "      <td>C_ID_92a2005557</td>\n",
       "      <td>5</td>\n",
       "      <td>2</td>\n",
       "      <td>1</td>\n",
       "      <td>-0.820283</td>\n",
       "    </tr>\n",
       "    <tr>\n",
       "      <th>1</th>\n",
       "      <td>2017-01</td>\n",
       "      <td>C_ID_3d0044924f</td>\n",
       "      <td>4</td>\n",
       "      <td>1</td>\n",
       "      <td>0</td>\n",
       "      <td>0.392913</td>\n",
       "    </tr>\n",
       "    <tr>\n",
       "      <th>2</th>\n",
       "      <td>2016-08</td>\n",
       "      <td>C_ID_d639edf6cd</td>\n",
       "      <td>2</td>\n",
       "      <td>2</td>\n",
       "      <td>0</td>\n",
       "      <td>0.688056</td>\n",
       "    </tr>\n",
       "    <tr>\n",
       "      <th>3</th>\n",
       "      <td>2017-09</td>\n",
       "      <td>C_ID_186d6a6901</td>\n",
       "      <td>4</td>\n",
       "      <td>3</td>\n",
       "      <td>0</td>\n",
       "      <td>0.142495</td>\n",
       "    </tr>\n",
       "    <tr>\n",
       "      <th>4</th>\n",
       "      <td>2017-11</td>\n",
       "      <td>C_ID_cdbd2c0db2</td>\n",
       "      <td>1</td>\n",
       "      <td>3</td>\n",
       "      <td>0</td>\n",
       "      <td>-0.159749</td>\n",
       "    </tr>\n",
       "  </tbody>\n",
       "</table>\n",
       "</div>"
      ],
      "text/plain": [
       "  first_active_month          card_id  feature_1  feature_2  feature_3  \\\n",
       "0            2017-06  C_ID_92a2005557          5          2          1   \n",
       "1            2017-01  C_ID_3d0044924f          4          1          0   \n",
       "2            2016-08  C_ID_d639edf6cd          2          2          0   \n",
       "3            2017-09  C_ID_186d6a6901          4          3          0   \n",
       "4            2017-11  C_ID_cdbd2c0db2          1          3          0   \n",
       "\n",
       "     target  \n",
       "0 -0.820283  \n",
       "1  0.392913  \n",
       "2  0.688056  \n",
       "3  0.142495  \n",
       "4 -0.159749  "
      ]
     },
     "execution_count": 40,
     "metadata": {},
     "output_type": "execute_result"
    }
   ],
   "source": [
    "file_path = './train.csv'\n",
    "\n",
    "# 3. Load the CSV into a DataFrame\n",
    "train = pd.read_csv(file_path)\n",
    "train.head()\n",
    "\n",
    "\n",
    "\n",
    "\n",
    "\n"
   ]
  },
  {
   "cell_type": "code",
   "execution_count": 41,
   "metadata": {
    "colab": {
     "base_uri": "https://localhost:8080/"
    },
    "id": "Nl0I4VZO4vWl",
    "outputId": "faf63c5b-f4f8-4ba9-b7cd-e195be1f9c5e"
   },
   "outputs": [
    {
     "name": "stdout",
     "output_type": "stream",
     "text": [
      "Train Set: 201917 rows, 201917 entries\n",
      "\n",
      "first_active_month    0\n",
      "card_id               0\n",
      "feature_1             0\n",
      "feature_2             0\n",
      "feature_3             0\n",
      "target                0\n",
      "dtype: int64\n"
     ]
    }
   ],
   "source": [
    "# Display train set details\n",
    "print(f'Train Set: {len(train)} rows, {len(train[\"card_id\"].unique())} entries\\n')\n",
    "\n",
    "# Convert specified features to categorical\n",
    "for feature in ['feature_1', 'feature_2', 'feature_3']:\n",
    "    train[feature] = train[feature].astype('category')\n",
    "\n",
    "# Convert target column to float32\n",
    "train['target'] = train['target'].astype('float32')\n",
    "\n",
    "# Check for missing values\n",
    "print(train.isnull().sum())"
   ]
  },
  {
   "cell_type": "code",
   "execution_count": 42,
   "metadata": {
    "colab": {
     "base_uri": "https://localhost:8080/",
     "height": 206
    },
    "id": "rMU3hs_447H6",
    "outputId": "994b50d8-2e35-43e4-c780-e7420dbc2702"
   },
   "outputs": [
    {
     "data": {
      "text/html": [
       "<div>\n",
       "<style scoped>\n",
       "    .dataframe tbody tr th:only-of-type {\n",
       "        vertical-align: middle;\n",
       "    }\n",
       "\n",
       "    .dataframe tbody tr th {\n",
       "        vertical-align: top;\n",
       "    }\n",
       "\n",
       "    .dataframe thead th {\n",
       "        text-align: right;\n",
       "    }\n",
       "</style>\n",
       "<table border=\"1\" class=\"dataframe\">\n",
       "  <thead>\n",
       "    <tr style=\"text-align: right;\">\n",
       "      <th></th>\n",
       "      <th>first_active_month</th>\n",
       "      <th>card_id</th>\n",
       "      <th>feature_1</th>\n",
       "      <th>feature_2</th>\n",
       "      <th>feature_3</th>\n",
       "    </tr>\n",
       "  </thead>\n",
       "  <tbody>\n",
       "    <tr>\n",
       "      <th>0</th>\n",
       "      <td>2017-04</td>\n",
       "      <td>C_ID_0ab67a22ab</td>\n",
       "      <td>3</td>\n",
       "      <td>3</td>\n",
       "      <td>1</td>\n",
       "    </tr>\n",
       "    <tr>\n",
       "      <th>1</th>\n",
       "      <td>2017-01</td>\n",
       "      <td>C_ID_130fd0cbdd</td>\n",
       "      <td>2</td>\n",
       "      <td>3</td>\n",
       "      <td>0</td>\n",
       "    </tr>\n",
       "    <tr>\n",
       "      <th>2</th>\n",
       "      <td>2017-08</td>\n",
       "      <td>C_ID_b709037bc5</td>\n",
       "      <td>5</td>\n",
       "      <td>1</td>\n",
       "      <td>1</td>\n",
       "    </tr>\n",
       "    <tr>\n",
       "      <th>3</th>\n",
       "      <td>2017-12</td>\n",
       "      <td>C_ID_d27d835a9f</td>\n",
       "      <td>2</td>\n",
       "      <td>1</td>\n",
       "      <td>0</td>\n",
       "    </tr>\n",
       "    <tr>\n",
       "      <th>4</th>\n",
       "      <td>2015-12</td>\n",
       "      <td>C_ID_2b5e3df5c2</td>\n",
       "      <td>5</td>\n",
       "      <td>1</td>\n",
       "      <td>1</td>\n",
       "    </tr>\n",
       "  </tbody>\n",
       "</table>\n",
       "</div>"
      ],
      "text/plain": [
       "  first_active_month          card_id  feature_1  feature_2  feature_3\n",
       "0            2017-04  C_ID_0ab67a22ab          3          3          1\n",
       "1            2017-01  C_ID_130fd0cbdd          2          3          0\n",
       "2            2017-08  C_ID_b709037bc5          5          1          1\n",
       "3            2017-12  C_ID_d27d835a9f          2          1          0\n",
       "4            2015-12  C_ID_2b5e3df5c2          5          1          1"
      ]
     },
     "execution_count": 42,
     "metadata": {},
     "output_type": "execute_result"
    }
   ],
   "source": [
    "file_path = './test.csv'\n",
    "test = pd.read_csv(file_path)\n",
    "test.head()"
   ]
  },
  {
   "cell_type": "code",
   "execution_count": 43,
   "metadata": {
    "colab": {
     "base_uri": "https://localhost:8080/"
    },
    "id": "rYRoGdRg6hGS",
    "outputId": "f1c55976-56ec-4799-ac04-8c4acb1172e7"
   },
   "outputs": [
    {
     "name": "stdout",
     "output_type": "stream",
     "text": [
      "Test Set: 123623 rows, 123623 entries\n",
      "\n",
      "first_active_month    1\n",
      "card_id               0\n",
      "feature_1             0\n",
      "feature_2             0\n",
      "feature_3             0\n",
      "dtype: int64\n"
     ]
    }
   ],
   "source": [
    "print(f'Test Set: {len(test)} rows, {len(test[\"card_id\"].unique())} entries\\n')\n",
    "\n",
    "for feature in ['feature_1','feature_2','feature_3']:\n",
    "    test[feature] = test[feature].astype('category')\n",
    "\n",
    "print(test.isnull().sum())"
   ]
  },
  {
   "cell_type": "code",
   "execution_count": 44,
   "metadata": {
    "colab": {
     "base_uri": "https://localhost:8080/"
    },
    "id": "ArVls1zylW36",
    "outputId": "434b5076-d389-4238-bf76-ca16e4fb65e8"
   },
   "outputs": [
    {
     "name": "stdout",
     "output_type": "stream",
     "text": [
      "first_active_month    0\n",
      "card_id               0\n",
      "feature_1             0\n",
      "feature_2             0\n",
      "feature_3             0\n",
      "dtype: int64\n"
     ]
    }
   ],
   "source": [
    "test['first_active_month'].fillna(test['first_active_month'].mode()[0], inplace=True)\n",
    "print(test.isnull().sum())\n",
    "\n"
   ]
  },
  {
   "cell_type": "code",
   "execution_count": 45,
   "metadata": {
    "id": "OtELrR_FlX3C"
   },
   "outputs": [],
   "source": [
    "def reduce_mem_usage(df, verbose=True):\n",
    "    numerics = ['int16', 'int32', 'int64', 'float16', 'float32', 'float64']\n",
    "    start_mem = df.memory_usage().sum() / 1024**2\n",
    "    for col in df.columns:\n",
    "        col_type = df[col].dtypes\n",
    "        if col_type in numerics:\n",
    "            c_min = df[col].min()\n",
    "            c_max = df[col].max()\n",
    "            if str(col_type)[:3] == 'int':\n",
    "                if c_min > np.iinfo(np.int8).min and c_max < np.iinfo(np.int8).max:\n",
    "                    df[col] = df[col].astype(np.int8)\n",
    "                elif c_min > np.iinfo(np.int16).min and c_max < np.iinfo(np.int16).max:\n",
    "                    df[col] = df[col].astype(np.int16)\n",
    "                elif c_min > np.iinffo(np.int32).min and c_max < np.iinfo(np.int32).max:\n",
    "                    df[col] = df[col].astype(np.int32)\n",
    "                elif c_min > np.iinfo(np.int64).min and c_max < np.iinfo(np.int64).max:\n",
    "                    df[col] = df[col].astype(np.int64)\n",
    "            else:\n",
    "                if c_min > np.finfo(np.float16).min and c_max < np.finfo(np.float16).max:\n",
    "                    df[col] = df[col].astype(np.float16)\n",
    "                elif c_min > np.finfo(np.float32).min and c_max < np.finfo(np.float32).max:\n",
    "                    df[col] = df[col].astype(np.float32)\n",
    "                else:\n",
    "                    df[col] = df[col].astype(np.float64)\n",
    "    end_mem = df.memory_usage().sum() / 1024**2\n",
    "    if verbose: print('Mem. usage decreased to {:5.2f} Mb ({:.1f}% reduction)'.format(end_mem, 100 * (start_mem - end_mem) / start_mem))\n",
    "    return df\n"
   ]
  },
  {
   "cell_type": "code",
   "execution_count": 46,
   "metadata": {
    "id": "YgLwjCMjzxkq"
   },
   "outputs": [
    {
     "data": {
      "text/plain": [
       "['authorized_flag',\n",
       " 'card_id',\n",
       " 'city_id',\n",
       " 'category_1',\n",
       " 'installments',\n",
       " 'category_3',\n",
       " 'merchant_category_id',\n",
       " 'merchant_id',\n",
       " 'month_lag',\n",
       " 'purchase_amount',\n",
       " 'purchase_date',\n",
       " 'category_2',\n",
       " 'state_id',\n",
       " 'subsector_id']"
      ]
     },
     "execution_count": 46,
     "metadata": {},
     "output_type": "execute_result"
    }
   ],
   "source": [
    "\n",
    "file_path = './historical_transactions.csv'\n",
    "df_hist = pd.read_csv(file_path)\n",
    "df_hist.columns.tolist()"
   ]
  },
  {
   "cell_type": "code",
   "execution_count": 47,
   "metadata": {},
   "outputs": [
    {
     "name": "stdout",
     "output_type": "stream",
     "text": [
      "authorized_flag               0\n",
      "card_id                       0\n",
      "city_id                       0\n",
      "category_1                    0\n",
      "installments                  0\n",
      "category_3               178159\n",
      "merchant_category_id          0\n",
      "merchant_id              138481\n",
      "month_lag                     0\n",
      "purchase_amount               0\n",
      "purchase_date                 0\n",
      "category_2              2652864\n",
      "state_id                      0\n",
      "subsector_id                  0\n",
      "dtype: int64\n"
     ]
    },
    {
     "data": {
      "text/plain": [
       "authorized_flag         category\n",
       "card_id                 category\n",
       "city_id                 category\n",
       "category_1              category\n",
       "installments             float32\n",
       "category_3              category\n",
       "merchant_category_id    category\n",
       "merchant_id             category\n",
       "month_lag                float32\n",
       "purchase_amount          float32\n",
       "purchase_date           category\n",
       "category_2              category\n",
       "state_id                category\n",
       "subsector_id            category\n",
       "dtype: object"
      ]
     },
     "execution_count": 47,
     "metadata": {},
     "output_type": "execute_result"
    }
   ],
   "source": [
    "for feature in df_hist.columns.tolist():\n",
    "    if feature in ['installments','month_lag','purchase_amount']:\n",
    "        df_hist[feature] = df_hist[feature].astype('float32')\n",
    "        df_hist[feature].replace([np.inf, -np.inf], np.nan, inplace=True)\n",
    "    else:\n",
    "        df_hist[feature] = df_hist[feature].astype('category')\n",
    "\n",
    "print(df_hist.isnull().sum())\n",
    "df_hist.dtypes"
   ]
  },
  {
   "cell_type": "code",
   "execution_count": 48,
   "metadata": {},
   "outputs": [
    {
     "name": "stdout",
     "output_type": "stream",
     "text": [
      "authorized_flag         0\n",
      "card_id                 0\n",
      "city_id                 0\n",
      "category_1              0\n",
      "installments            0\n",
      "category_3              0\n",
      "merchant_category_id    0\n",
      "merchant_id             0\n",
      "month_lag               0\n",
      "purchase_amount         0\n",
      "purchase_date           0\n",
      "category_2              0\n",
      "state_id                0\n",
      "subsector_id            0\n",
      "dtype: int64\n"
     ]
    }
   ],
   "source": [
    "def fill_na(df):\n",
    "    for feature in df.columns.tolist():\n",
    "        if (df[feature].dtype == 'int32') or (df[feature].dtype == 'float32'):\n",
    "            df[feature].fillna(df[feature].mean(), inplace=True)\n",
    "        else:\n",
    "            df[feature].fillna(df[feature].mode()[0], inplace=True)\n",
    "\n",
    "fill_na(df_hist)\n",
    "print(df_hist.isnull().sum())"
   ]
  },
  {
   "cell_type": "code",
   "execution_count": 49,
   "metadata": {},
   "outputs": [
    {
     "data": {
      "text/plain": [
       "['authorized_flag',\n",
       " 'card_id',\n",
       " 'city_id',\n",
       " 'category_1',\n",
       " 'installments',\n",
       " 'category_3',\n",
       " 'merchant_category_id',\n",
       " 'merchant_id',\n",
       " 'month_lag',\n",
       " 'purchase_amount',\n",
       " 'purchase_date',\n",
       " 'category_2',\n",
       " 'state_id',\n",
       " 'subsector_id']"
      ]
     },
     "execution_count": 49,
     "metadata": {},
     "output_type": "execute_result"
    }
   ],
   "source": [
    "df_new = pd.read_csv('./new_merchant_transactions.csv')\n",
    "df_new.columns.tolist()"
   ]
  },
  {
   "cell_type": "code",
   "execution_count": 50,
   "metadata": {},
   "outputs": [
    {
     "name": "stdout",
     "output_type": "stream",
     "text": [
      "authorized_flag              0\n",
      "card_id                      0\n",
      "city_id                      0\n",
      "category_1                   0\n",
      "installments                 0\n",
      "category_3               55922\n",
      "merchant_category_id         0\n",
      "merchant_id              26216\n",
      "month_lag                    0\n",
      "purchase_amount              0\n",
      "purchase_date                0\n",
      "category_2              111745\n",
      "state_id                     0\n",
      "subsector_id                 0\n",
      "dtype: int64\n"
     ]
    },
    {
     "data": {
      "text/plain": [
       "authorized_flag         category\n",
       "card_id                 category\n",
       "city_id                 category\n",
       "category_1              category\n",
       "installments             float32\n",
       "category_3              category\n",
       "merchant_category_id    category\n",
       "merchant_id             category\n",
       "month_lag                float32\n",
       "purchase_amount          float32\n",
       "purchase_date           category\n",
       "category_2              category\n",
       "state_id                category\n",
       "subsector_id            category\n",
       "dtype: object"
      ]
     },
     "execution_count": 50,
     "metadata": {},
     "output_type": "execute_result"
    }
   ],
   "source": [
    "for feature in df_new.columns.tolist():\n",
    "    if feature in ['installments','month_lag','purchase_amount']:\n",
    "        df_new[feature] = df_new[feature].astype('float32')\n",
    "        df_new[feature].replace([np.inf, -np.inf], np.nan, inplace=True)\n",
    "    else:\n",
    "        df_new[feature] = df_new[feature].astype('category')\n",
    "\n",
    "print(df_new.isnull().sum())\n",
    "df_new.dtypes"
   ]
  },
  {
   "cell_type": "code",
   "execution_count": 51,
   "metadata": {},
   "outputs": [
    {
     "name": "stdout",
     "output_type": "stream",
     "text": [
      "authorized_flag         0\n",
      "card_id                 0\n",
      "city_id                 0\n",
      "category_1              0\n",
      "installments            0\n",
      "category_3              0\n",
      "merchant_category_id    0\n",
      "merchant_id             0\n",
      "month_lag               0\n",
      "purchase_amount         0\n",
      "purchase_date           0\n",
      "category_2              0\n",
      "state_id                0\n",
      "subsector_id            0\n",
      "dtype: int64\n"
     ]
    }
   ],
   "source": [
    "fill_na(df_new)\n",
    "print(df_new.isnull().sum())"
   ]
  },
  {
   "cell_type": "code",
   "execution_count": 52,
   "metadata": {},
   "outputs": [
    {
     "data": {
      "text/plain": [
       "['authorized_flag',\n",
       " 'card_id',\n",
       " 'city_id',\n",
       " 'category_1',\n",
       " 'installments',\n",
       " 'category_3',\n",
       " 'merchant_category_id',\n",
       " 'merchant_id',\n",
       " 'month_lag',\n",
       " 'purchase_amount',\n",
       " 'purchase_date',\n",
       " 'category_2',\n",
       " 'state_id',\n",
       " 'subsector_id']"
      ]
     },
     "execution_count": 52,
     "metadata": {},
     "output_type": "execute_result"
    }
   ],
   "source": [
    "df_transactions = pd.concat([df_hist, df_new], axis=0)\n",
    "df_transactions.columns.tolist()"
   ]
  },
  {
   "cell_type": "code",
   "execution_count": 53,
   "metadata": {},
   "outputs": [
    {
     "data": {
      "text/plain": [
       "['merchant_id',\n",
       " 'merchant_group_id',\n",
       " 'merchant_category_id',\n",
       " 'subsector_id',\n",
       " 'numerical_1',\n",
       " 'numerical_2',\n",
       " 'category_1',\n",
       " 'most_recent_sales_range',\n",
       " 'most_recent_purchases_range',\n",
       " 'avg_sales_lag3',\n",
       " 'avg_purchases_lag3',\n",
       " 'active_months_lag3',\n",
       " 'avg_sales_lag6',\n",
       " 'avg_purchases_lag6',\n",
       " 'active_months_lag6',\n",
       " 'avg_sales_lag12',\n",
       " 'avg_purchases_lag12',\n",
       " 'active_months_lag12',\n",
       " 'category_4',\n",
       " 'city_id',\n",
       " 'state_id',\n",
       " 'category_2']"
      ]
     },
     "execution_count": 53,
     "metadata": {},
     "output_type": "execute_result"
    }
   ],
   "source": [
    "df_merchants = pd.read_csv('./merchants.csv')\n",
    "df_merchants.columns.tolist()"
   ]
  },
  {
   "cell_type": "code",
   "execution_count": 54,
   "metadata": {},
   "outputs": [
    {
     "name": "stdout",
     "output_type": "stream",
     "text": [
      "merchant_id                        0\n",
      "merchant_group_id                  0\n",
      "merchant_category_id               0\n",
      "subsector_id                       0\n",
      "numerical_1                        0\n",
      "numerical_2                        0\n",
      "category_1                         0\n",
      "most_recent_sales_range            0\n",
      "most_recent_purchases_range        0\n",
      "avg_sales_lag3                    13\n",
      "avg_purchases_lag3                 3\n",
      "active_months_lag3                 0\n",
      "avg_sales_lag6                    13\n",
      "avg_purchases_lag6                 3\n",
      "active_months_lag6                 0\n",
      "avg_sales_lag12                   13\n",
      "avg_purchases_lag12                3\n",
      "active_months_lag12                0\n",
      "category_4                         0\n",
      "city_id                            0\n",
      "state_id                           0\n",
      "category_2                     11887\n",
      "dtype: int64\n"
     ]
    },
    {
     "data": {
      "text/plain": [
       "merchant_id                    category\n",
       "merchant_group_id              category\n",
       "merchant_category_id           category\n",
       "subsector_id                   category\n",
       "numerical_1                     float32\n",
       "numerical_2                     float32\n",
       "category_1                     category\n",
       "most_recent_sales_range        category\n",
       "most_recent_purchases_range    category\n",
       "avg_sales_lag3                  float32\n",
       "avg_purchases_lag3              float32\n",
       "active_months_lag3              float32\n",
       "avg_sales_lag6                  float32\n",
       "avg_purchases_lag6              float32\n",
       "active_months_lag6              float32\n",
       "avg_sales_lag12                 float32\n",
       "avg_purchases_lag12             float32\n",
       "active_months_lag12             float32\n",
       "category_4                     category\n",
       "city_id                        category\n",
       "state_id                       category\n",
       "category_2                     category\n",
       "dtype: object"
      ]
     },
     "execution_count": 54,
     "metadata": {},
     "output_type": "execute_result"
    }
   ],
   "source": [
    "for feature in df_merchants.columns.tolist():\n",
    "    if feature in ['numerical_1','numerical_2',\n",
    "                   'avg_sales_lag3','avg_purchases_lag3','active_months_lag3',\n",
    "                   'avg_sales_lag6','avg_purchases_lag6','active_months_lag6',\n",
    "                   'avg_sales_lag12','avg_purchases_lag12','active_months_lag12',]:\n",
    "        \n",
    "        df_merchants[feature] = df_merchants[feature].astype('float32')\n",
    "        df_merchants[feature].replace([np.inf, -np.inf], np.nan, inplace=True)\n",
    "    else:\n",
    "        df_merchants[feature] = df_merchants[feature].astype('category')\n",
    "\n",
    "print(df_merchants.isnull().sum())\n",
    "df_merchants.dtypes"
   ]
  },
  {
   "cell_type": "code",
   "execution_count": 55,
   "metadata": {},
   "outputs": [
    {
     "name": "stdout",
     "output_type": "stream",
     "text": [
      "merchant_id                    0\n",
      "merchant_group_id              0\n",
      "merchant_category_id           0\n",
      "subsector_id                   0\n",
      "numerical_1                    0\n",
      "numerical_2                    0\n",
      "category_1                     0\n",
      "most_recent_sales_range        0\n",
      "most_recent_purchases_range    0\n",
      "avg_sales_lag3                 0\n",
      "avg_purchases_lag3             0\n",
      "active_months_lag3             0\n",
      "avg_sales_lag6                 0\n",
      "avg_purchases_lag6             0\n",
      "active_months_lag6             0\n",
      "avg_sales_lag12                0\n",
      "avg_purchases_lag12            0\n",
      "active_months_lag12            0\n",
      "category_4                     0\n",
      "city_id                        0\n",
      "state_id                       0\n",
      "category_2                     0\n",
      "dtype: int64\n"
     ]
    }
   ],
   "source": [
    "fill_na(df_merchants)\n",
    "print(df_merchants.isnull().sum())"
   ]
  },
  {
   "cell_type": "code",
   "execution_count": 56,
   "metadata": {},
   "outputs": [
    {
     "data": {
      "text/plain": [
       "['authorized_flag',\n",
       " 'card_id',\n",
       " 'city_id',\n",
       " 'category_1',\n",
       " 'installments',\n",
       " 'category_3',\n",
       " 'merchant_category_id',\n",
       " 'merchant_id',\n",
       " 'month_lag',\n",
       " 'purchase_amount',\n",
       " 'purchase_date',\n",
       " 'category_2',\n",
       " 'state_id',\n",
       " 'subsector_id',\n",
       " 'merchant_group_id',\n",
       " 'numerical_1',\n",
       " 'numerical_2',\n",
       " 'most_recent_sales_range',\n",
       " 'most_recent_purchases_range',\n",
       " 'avg_sales_lag3',\n",
       " 'avg_purchases_lag3',\n",
       " 'active_months_lag3',\n",
       " 'avg_sales_lag6',\n",
       " 'avg_purchases_lag6',\n",
       " 'active_months_lag6',\n",
       " 'avg_sales_lag12',\n",
       " 'avg_purchases_lag12',\n",
       " 'active_months_lag12',\n",
       " 'category_4']"
      ]
     },
     "execution_count": 56,
     "metadata": {},
     "output_type": "execute_result"
    }
   ],
   "source": [
    "df_trans_merch = pd.merge(df_transactions, df_merchants, on=[col for col in df_transactions.columns.tolist() if col in df_merchants.columns.tolist()], how='inner')\n",
    "df_trans_merch.columns.tolist()"
   ]
  },
  {
   "cell_type": "code",
   "execution_count": 57,
   "metadata": {},
   "outputs": [
    {
     "data": {
      "text/plain": [
       "['first_active_month',\n",
       " 'card_id',\n",
       " 'feature_1',\n",
       " 'feature_2',\n",
       " 'feature_3',\n",
       " 'target',\n",
       " 'authorized_flag',\n",
       " 'city_id',\n",
       " 'category_1',\n",
       " 'installments',\n",
       " 'category_3',\n",
       " 'merchant_category_id',\n",
       " 'merchant_id',\n",
       " 'month_lag',\n",
       " 'purchase_amount',\n",
       " 'purchase_date',\n",
       " 'category_2',\n",
       " 'state_id',\n",
       " 'subsector_id',\n",
       " 'merchant_group_id',\n",
       " 'numerical_1',\n",
       " 'numerical_2',\n",
       " 'most_recent_sales_range',\n",
       " 'most_recent_purchases_range',\n",
       " 'avg_sales_lag3',\n",
       " 'avg_purchases_lag3',\n",
       " 'active_months_lag3',\n",
       " 'avg_sales_lag6',\n",
       " 'avg_purchases_lag6',\n",
       " 'active_months_lag6',\n",
       " 'avg_sales_lag12',\n",
       " 'avg_purchases_lag12',\n",
       " 'active_months_lag12',\n",
       " 'category_4']"
      ]
     },
     "execution_count": 57,
     "metadata": {},
     "output_type": "execute_result"
    }
   ],
   "source": [
    "train_merge = pd.merge(train, df_trans_merch, on='card_id', how='left')\n",
    "train_merge.columns.tolist()"
   ]
  },
  {
   "cell_type": "code",
   "execution_count": 58,
   "metadata": {},
   "outputs": [
    {
     "name": "stdout",
     "output_type": "stream",
     "text": [
      "Train Merged: 12572010 rows, 201917 entries\n",
      "\n",
      "first_active_month                0\n",
      "card_id                           0\n",
      "feature_1                         0\n",
      "feature_2                         0\n",
      "feature_3                         0\n",
      "target                            0\n",
      "authorized_flag                8298\n",
      "city_id                        8298\n",
      "category_1                     8298\n",
      "installments                   8298\n",
      "category_3                     8298\n",
      "merchant_category_id           8298\n",
      "merchant_id                    8298\n",
      "month_lag                      8298\n",
      "purchase_amount                8298\n",
      "purchase_date                  8298\n",
      "category_2                     8298\n",
      "state_id                       8298\n",
      "subsector_id                   8298\n",
      "merchant_group_id              8298\n",
      "numerical_1                    8298\n",
      "numerical_2                    8298\n",
      "most_recent_sales_range        8298\n",
      "most_recent_purchases_range    8298\n",
      "avg_sales_lag3                 8298\n",
      "avg_purchases_lag3             8298\n",
      "active_months_lag3             8298\n",
      "avg_sales_lag6                 8298\n",
      "avg_purchases_lag6             8298\n",
      "active_months_lag6             8298\n",
      "avg_sales_lag12                8298\n",
      "avg_purchases_lag12            8298\n",
      "active_months_lag12            8298\n",
      "category_4                     8298\n",
      "dtype: int64\n"
     ]
    }
   ],
   "source": [
    "print(f'Train Merged: {len(train_merge)} rows, {len(train_merge[\"card_id\"].unique())} entries\\n')\n",
    "print(train_merge.isnull().sum())"
   ]
  },
  {
   "cell_type": "code",
   "execution_count": 59,
   "metadata": {},
   "outputs": [
    {
     "name": "stdout",
     "output_type": "stream",
     "text": [
      "first_active_month             0\n",
      "card_id                        0\n",
      "feature_1                      0\n",
      "feature_2                      0\n",
      "feature_3                      0\n",
      "target                         0\n",
      "authorized_flag                0\n",
      "city_id                        0\n",
      "category_1                     0\n",
      "installments                   0\n",
      "category_3                     0\n",
      "merchant_category_id           0\n",
      "merchant_id                    0\n",
      "month_lag                      0\n",
      "purchase_amount                0\n",
      "purchase_date                  0\n",
      "category_2                     0\n",
      "state_id                       0\n",
      "subsector_id                   0\n",
      "merchant_group_id              0\n",
      "numerical_1                    0\n",
      "numerical_2                    0\n",
      "most_recent_sales_range        0\n",
      "most_recent_purchases_range    0\n",
      "avg_sales_lag3                 0\n",
      "avg_purchases_lag3             0\n",
      "active_months_lag3             0\n",
      "avg_sales_lag6                 0\n",
      "avg_purchases_lag6             0\n",
      "active_months_lag6             0\n",
      "avg_sales_lag12                0\n",
      "avg_purchases_lag12            0\n",
      "active_months_lag12            0\n",
      "category_4                     0\n",
      "dtype: int64\n"
     ]
    }
   ],
   "source": [
    "fill_na(train_merge)\n",
    "print(train_merge.isnull().sum())"
   ]
  },
  {
   "cell_type": "code",
   "execution_count": 60,
   "metadata": {},
   "outputs": [
    {
     "data": {
      "text/plain": [
       "['first_active_month',\n",
       " 'card_id',\n",
       " 'feature_1',\n",
       " 'feature_2',\n",
       " 'feature_3',\n",
       " 'authorized_flag',\n",
       " 'city_id',\n",
       " 'category_1',\n",
       " 'installments',\n",
       " 'category_3',\n",
       " 'merchant_category_id',\n",
       " 'merchant_id',\n",
       " 'month_lag',\n",
       " 'purchase_amount',\n",
       " 'purchase_date',\n",
       " 'category_2',\n",
       " 'state_id',\n",
       " 'subsector_id',\n",
       " 'merchant_group_id',\n",
       " 'numerical_1',\n",
       " 'numerical_2',\n",
       " 'most_recent_sales_range',\n",
       " 'most_recent_purchases_range',\n",
       " 'avg_sales_lag3',\n",
       " 'avg_purchases_lag3',\n",
       " 'active_months_lag3',\n",
       " 'avg_sales_lag6',\n",
       " 'avg_purchases_lag6',\n",
       " 'active_months_lag6',\n",
       " 'avg_sales_lag12',\n",
       " 'avg_purchases_lag12',\n",
       " 'active_months_lag12',\n",
       " 'category_4']"
      ]
     },
     "execution_count": 60,
     "metadata": {},
     "output_type": "execute_result"
    }
   ],
   "source": [
    "test_merge = pd.merge(test, df_trans_merch, on='card_id', how='left')\n",
    "test_merge.columns.tolist()"
   ]
  },
  {
   "cell_type": "code",
   "execution_count": 61,
   "metadata": {},
   "outputs": [
    {
     "name": "stdout",
     "output_type": "stream",
     "text": [
      "first_active_month             0\n",
      "card_id                        0\n",
      "feature_1                      0\n",
      "feature_2                      0\n",
      "feature_3                      0\n",
      "authorized_flag                0\n",
      "city_id                        0\n",
      "category_1                     0\n",
      "installments                   0\n",
      "category_3                     0\n",
      "merchant_category_id           0\n",
      "merchant_id                    0\n",
      "month_lag                      0\n",
      "purchase_amount                0\n",
      "purchase_date                  0\n",
      "category_2                     0\n",
      "state_id                       0\n",
      "subsector_id                   0\n",
      "merchant_group_id              0\n",
      "numerical_1                    0\n",
      "numerical_2                    0\n",
      "most_recent_sales_range        0\n",
      "most_recent_purchases_range    0\n",
      "avg_sales_lag3                 0\n",
      "avg_purchases_lag3             0\n",
      "active_months_lag3             0\n",
      "avg_sales_lag6                 0\n",
      "avg_purchases_lag6             0\n",
      "active_months_lag6             0\n",
      "avg_sales_lag12                0\n",
      "avg_purchases_lag12            0\n",
      "active_months_lag12            0\n",
      "category_4                     0\n",
      "dtype: int64\n"
     ]
    }
   ],
   "source": [
    "fill_na(test_merge)\n",
    "print(test_merge.isnull().sum())"
   ]
  },
  {
   "cell_type": "code",
   "execution_count": 62,
   "metadata": {},
   "outputs": [],
   "source": [
    "for feature in ['first_active_month', 'purchase_date']:\n",
    "    train_merge[feature] = pd.to_datetime(train_merge[feature])\n",
    "    test_merge[feature] = pd.to_datetime(test_merge[feature])\n",
    "\n",
    "train_merge['period_to_first_transaction'] = train_merge['purchase_date']-train_merge['first_active_month']\n",
    "train_merge['period_to_first_transaction'] = ((train_merge['period_to_first_transaction'].dt.days)/30.44) # 30.44 - Average number of days in a month\n",
    "\n",
    "test_merge['period_to_first_transaction'] = test_merge['purchase_date']-test_merge['first_active_month']\n",
    "test_merge['period_to_first_transaction'] = ((test_merge['period_to_first_transaction'].dt.days)/30.44) # 30.44 - Average number of days in a month\n",
    "\n",
    "train_merge.drop(columns={'first_active_month', 'purchase_date'}, axis=1, inplace=True)\n",
    "test_merge.drop(columns={'first_active_month', 'purchase_date'}, axis=1, inplace=True)"
   ]
  },
  {
   "cell_type": "code",
   "execution_count": 63,
   "metadata": {},
   "outputs": [
    {
     "name": "stdout",
     "output_type": "stream",
     "text": [
      "Statistics for period_to_first_transaction Train\n",
      "count    1.257201e+07\n",
      "mean     9.199988e+00\n",
      "std      8.479139e+00\n",
      "min      0.000000e+00\n",
      "25%      3.252300e+00\n",
      "50%      6.701708e+00\n",
      "75%      1.245072e+01\n",
      "max      7.779238e+01\n",
      "Name: period_to_first_transaction, dtype: float64 \n",
      "\n",
      "Statistics for period_to_first_transaction Test\n",
      "count    7.730671e+06\n",
      "mean     9.303392e+00\n",
      "std      8.626712e+00\n",
      "min      0.000000e+00\n",
      "25%      3.252300e+00\n",
      "50%      6.734560e+00\n",
      "75%      1.254928e+01\n",
      "max      7.729961e+01\n",
      "Name: period_to_first_transaction, dtype: float64 \n",
      "\n"
     ]
    }
   ],
   "source": [
    "train_merge.loc[train_merge['period_to_first_transaction'] < 0, 'period_to_first_transaction'] = 0\n",
    "test_merge.loc[test_merge['period_to_first_transaction'] < 0, 'period_to_first_transaction'] = 0\n",
    "\n",
    "print(\"Statistics for period_to_first_transaction Train\")\n",
    "stats_train = train_merge[\"period_to_first_transaction\"].describe(percentiles=[0.25, 0.5, 0.75])\n",
    "print(stats_train, '\\n')\n",
    "\n",
    "print(\"Statistics for period_to_first_transaction Test\")\n",
    "stats_test = test_merge[\"period_to_first_transaction\"].describe(percentiles=[0.25, 0.5, 0.75])\n",
    "print(stats_test, '\\n')"
   ]
  },
  {
   "cell_type": "code",
   "execution_count": 64,
   "metadata": {},
   "outputs": [
    {
     "name": "stdout",
     "output_type": "stream",
     "text": [
      "Train Set: 201917 rows, 201917 entries\n",
      "\n"
     ]
    }
   ],
   "source": [
    "def get_mode(series):\n",
    "    mode = series.mode()\n",
    "    return mode[0] if not mode.empty else None\n",
    "\n",
    "train_merged_final = train_merge.groupby('card_id').agg({\n",
    "    'period_to_first_transaction':'mean',\n",
    "    'installments':'mean',\n",
    "    'month_lag':'mean',\n",
    "    'purchase_amount':'mean',\n",
    "    'numerical_1':'mean',\n",
    "    'numerical_2':'mean',\n",
    "    'avg_sales_lag3':'mean',\n",
    "    'avg_purchases_lag3':'mean',\n",
    "    'active_months_lag3':'mean',\n",
    "    'avg_sales_lag6':'mean',\n",
    "    'avg_purchases_lag6':'mean',\n",
    "    'active_months_lag6':'mean',\n",
    "    'avg_sales_lag12':'mean',\n",
    "    'avg_purchases_lag12':'mean',\n",
    "    'active_months_lag12':'mean',\n",
    "    'target':'mean',\n",
    "    'feature_1': get_mode,\n",
    "    'feature_2': get_mode,\n",
    "    'feature_3': get_mode,\n",
    "    'authorized_flag': get_mode,\n",
    "    'category_1': get_mode,\n",
    "    'category_2': get_mode,\n",
    "    'category_3': get_mode,\n",
    "    'category_4': get_mode,\n",
    "    'city_id': get_mode,\n",
    "    'state_id': get_mode,\n",
    "    'subsector_id': get_mode,\n",
    "    'merchant_id': get_mode,\n",
    "    'merchant_group_id': get_mode,\n",
    "    'merchant_category_id': get_mode,\n",
    "    'most_recent_sales_range': get_mode,\n",
    "    'most_recent_purchases_range': get_mode\n",
    "}).reset_index();\n",
    "\n",
    "print(f'Train Set: {len(train_merged_final)} rows, {len(train_merged_final[\"card_id\"].unique())} entries\\n')"
   ]
  },
  {
   "cell_type": "code",
   "execution_count": 65,
   "metadata": {},
   "outputs": [
    {
     "name": "stdout",
     "output_type": "stream",
     "text": [
      "Test Set: 123623 rows, 123623 entries\n",
      "\n"
     ]
    }
   ],
   "source": [
    "test_merged_final = test_merge.groupby('card_id').agg({\n",
    "    'period_to_first_transaction':'mean',\n",
    "    'installments':'mean',\n",
    "    'month_lag':'mean',\n",
    "    'purchase_amount':'mean',\n",
    "    'numerical_1':'mean',\n",
    "    'numerical_2':'mean',\n",
    "    'avg_sales_lag3':'mean',\n",
    "    'avg_purchases_lag3':'mean',\n",
    "    'active_months_lag3':'mean',\n",
    "    'avg_sales_lag6':'mean',\n",
    "    'avg_purchases_lag6':'mean',\n",
    "    'active_months_lag6':'mean',\n",
    "    'avg_sales_lag12':'mean',\n",
    "    'avg_purchases_lag12':'mean',\n",
    "    'active_months_lag12':'mean',\n",
    "    'feature_1': get_mode,\n",
    "    'feature_2': get_mode,\n",
    "    'feature_3': get_mode,\n",
    "    'authorized_flag': get_mode,\n",
    "    'category_1': get_mode,\n",
    "    'category_2': get_mode,\n",
    "    'category_3': get_mode,\n",
    "    'category_4': get_mode,\n",
    "    'city_id': get_mode,\n",
    "    'state_id': get_mode,\n",
    "    'subsector_id': get_mode,\n",
    "    'merchant_id': get_mode,\n",
    "    'merchant_group_id': get_mode,\n",
    "    'merchant_category_id': get_mode,\n",
    "    'most_recent_sales_range': get_mode,\n",
    "    'most_recent_purchases_range': get_mode\n",
    "}).reset_index();\n",
    "\n",
    "print(f'Test Set: {len(test_merged_final)} rows, {len(test_merged_final[\"card_id\"].unique())} entries\\n')"
   ]
  },
  {
   "cell_type": "code",
   "execution_count": 66,
   "metadata": {},
   "outputs": [],
   "source": [
    "train_merged_final.to_csv('./train_data.csv', index=False)"
   ]
  },
  {
   "cell_type": "code",
   "execution_count": 67,
   "metadata": {},
   "outputs": [],
   "source": [
    "test_merged_final.to_csv('./test_data.csv', index=False)"
   ]
  },
  {
   "cell_type": "code",
   "execution_count": 68,
   "metadata": {},
   "outputs": [
    {
     "data": {
      "text/html": [
       "<div>\n",
       "<style scoped>\n",
       "    .dataframe tbody tr th:only-of-type {\n",
       "        vertical-align: middle;\n",
       "    }\n",
       "\n",
       "    .dataframe tbody tr th {\n",
       "        vertical-align: top;\n",
       "    }\n",
       "\n",
       "    .dataframe thead th {\n",
       "        text-align: right;\n",
       "    }\n",
       "</style>\n",
       "<table border=\"1\" class=\"dataframe\">\n",
       "  <thead>\n",
       "    <tr style=\"text-align: right;\">\n",
       "      <th></th>\n",
       "      <th>card_id</th>\n",
       "      <th>period_to_first_transaction</th>\n",
       "      <th>installments</th>\n",
       "      <th>month_lag</th>\n",
       "      <th>purchase_amount</th>\n",
       "      <th>numerical_1</th>\n",
       "      <th>numerical_2</th>\n",
       "      <th>avg_sales_lag3</th>\n",
       "      <th>avg_purchases_lag3</th>\n",
       "      <th>active_months_lag3</th>\n",
       "      <th>...</th>\n",
       "      <th>category_3</th>\n",
       "      <th>category_4</th>\n",
       "      <th>city_id</th>\n",
       "      <th>state_id</th>\n",
       "      <th>subsector_id</th>\n",
       "      <th>merchant_id</th>\n",
       "      <th>merchant_group_id</th>\n",
       "      <th>merchant_category_id</th>\n",
       "      <th>most_recent_sales_range</th>\n",
       "      <th>most_recent_purchases_range</th>\n",
       "    </tr>\n",
       "  </thead>\n",
       "  <tbody>\n",
       "    <tr>\n",
       "      <th>0</th>\n",
       "      <td>C_ID_00007093c1</td>\n",
       "      <td>7.998978</td>\n",
       "      <td>1.244444</td>\n",
       "      <td>-4.266667</td>\n",
       "      <td>-0.638961</td>\n",
       "      <td>0.190402</td>\n",
       "      <td>0.157132</td>\n",
       "      <td>0.994667</td>\n",
       "      <td>1.013273</td>\n",
       "      <td>3.0</td>\n",
       "      <td>...</td>\n",
       "      <td>B</td>\n",
       "      <td>Y</td>\n",
       "      <td>-1.0</td>\n",
       "      <td>-1</td>\n",
       "      <td>8</td>\n",
       "      <td>M_ID_57df19bf28</td>\n",
       "      <td>71128</td>\n",
       "      <td>755</td>\n",
       "      <td>A</td>\n",
       "      <td>A</td>\n",
       "    </tr>\n",
       "    <tr>\n",
       "      <th>1</th>\n",
       "      <td>C_ID_0001506ef0</td>\n",
       "      <td>15.137976</td>\n",
       "      <td>0.018182</td>\n",
       "      <td>-4.254546</td>\n",
       "      <td>-0.492424</td>\n",
       "      <td>1.191807</td>\n",
       "      <td>1.028121</td>\n",
       "      <td>1.052909</td>\n",
       "      <td>1.072006</td>\n",
       "      <td>3.0</td>\n",
       "      <td>...</td>\n",
       "      <td>A</td>\n",
       "      <td>Y</td>\n",
       "      <td>137.0</td>\n",
       "      <td>19</td>\n",
       "      <td>33</td>\n",
       "      <td>M_ID_b1fc88154d</td>\n",
       "      <td>321</td>\n",
       "      <td>705</td>\n",
       "      <td>A</td>\n",
       "      <td>A</td>\n",
       "    </tr>\n",
       "    <tr>\n",
       "      <th>2</th>\n",
       "      <td>C_ID_000183fdda</td>\n",
       "      <td>3.192593</td>\n",
       "      <td>1.841270</td>\n",
       "      <td>-2.253968</td>\n",
       "      <td>-0.510138</td>\n",
       "      <td>0.189379</td>\n",
       "      <td>0.134690</td>\n",
       "      <td>1.047778</td>\n",
       "      <td>1.046282</td>\n",
       "      <td>3.0</td>\n",
       "      <td>...</td>\n",
       "      <td>B</td>\n",
       "      <td>Y</td>\n",
       "      <td>161.0</td>\n",
       "      <td>3</td>\n",
       "      <td>16</td>\n",
       "      <td>M_ID_f9cfe0a43b</td>\n",
       "      <td>35</td>\n",
       "      <td>367</td>\n",
       "      <td>B</td>\n",
       "      <td>C</td>\n",
       "    </tr>\n",
       "    <tr>\n",
       "      <th>3</th>\n",
       "      <td>C_ID_00027503e2</td>\n",
       "      <td>4.367522</td>\n",
       "      <td>0.000000</td>\n",
       "      <td>-4.184210</td>\n",
       "      <td>-0.741493</td>\n",
       "      <td>-0.004765</td>\n",
       "      <td>-0.006852</td>\n",
       "      <td>0.999211</td>\n",
       "      <td>0.992998</td>\n",
       "      <td>3.0</td>\n",
       "      <td>...</td>\n",
       "      <td>A</td>\n",
       "      <td>N</td>\n",
       "      <td>146.0</td>\n",
       "      <td>19</td>\n",
       "      <td>33</td>\n",
       "      <td>M_ID_8de747a1c2</td>\n",
       "      <td>9207</td>\n",
       "      <td>705</td>\n",
       "      <td>C</td>\n",
       "      <td>C</td>\n",
       "    </tr>\n",
       "    <tr>\n",
       "      <th>4</th>\n",
       "      <td>C_ID_0002c7c2c1</td>\n",
       "      <td>6.512668</td>\n",
       "      <td>0.000000</td>\n",
       "      <td>-2.947368</td>\n",
       "      <td>-0.661876</td>\n",
       "      <td>15.560765</td>\n",
       "      <td>14.361757</td>\n",
       "      <td>1.024386</td>\n",
       "      <td>1.053682</td>\n",
       "      <td>3.0</td>\n",
       "      <td>...</td>\n",
       "      <td>A</td>\n",
       "      <td>Y</td>\n",
       "      <td>69.0</td>\n",
       "      <td>9</td>\n",
       "      <td>27</td>\n",
       "      <td>M_ID_f40ccc1312</td>\n",
       "      <td>35</td>\n",
       "      <td>178</td>\n",
       "      <td>A</td>\n",
       "      <td>A</td>\n",
       "    </tr>\n",
       "  </tbody>\n",
       "</table>\n",
       "<p>5 rows × 33 columns</p>\n",
       "</div>"
      ],
      "text/plain": [
       "           card_id  period_to_first_transaction  installments  month_lag  \\\n",
       "0  C_ID_00007093c1                     7.998978      1.244444  -4.266667   \n",
       "1  C_ID_0001506ef0                    15.137976      0.018182  -4.254546   \n",
       "2  C_ID_000183fdda                     3.192593      1.841270  -2.253968   \n",
       "3  C_ID_00027503e2                     4.367522      0.000000  -4.184210   \n",
       "4  C_ID_0002c7c2c1                     6.512668      0.000000  -2.947368   \n",
       "\n",
       "   purchase_amount  numerical_1  numerical_2  avg_sales_lag3  \\\n",
       "0        -0.638961     0.190402     0.157132        0.994667   \n",
       "1        -0.492424     1.191807     1.028121        1.052909   \n",
       "2        -0.510138     0.189379     0.134690        1.047778   \n",
       "3        -0.741493    -0.004765    -0.006852        0.999211   \n",
       "4        -0.661876    15.560765    14.361757        1.024386   \n",
       "\n",
       "   avg_purchases_lag3  active_months_lag3  ...  category_3  category_4  \\\n",
       "0            1.013273                 3.0  ...           B           Y   \n",
       "1            1.072006                 3.0  ...           A           Y   \n",
       "2            1.046282                 3.0  ...           B           Y   \n",
       "3            0.992998                 3.0  ...           A           N   \n",
       "4            1.053682                 3.0  ...           A           Y   \n",
       "\n",
       "   city_id  state_id  subsector_id      merchant_id  merchant_group_id  \\\n",
       "0     -1.0        -1             8  M_ID_57df19bf28              71128   \n",
       "1    137.0        19            33  M_ID_b1fc88154d                321   \n",
       "2    161.0         3            16  M_ID_f9cfe0a43b                 35   \n",
       "3    146.0        19            33  M_ID_8de747a1c2               9207   \n",
       "4     69.0         9            27  M_ID_f40ccc1312                 35   \n",
       "\n",
       "   merchant_category_id  most_recent_sales_range  most_recent_purchases_range  \n",
       "0                   755                        A                            A  \n",
       "1                   705                        A                            A  \n",
       "2                   367                        B                            C  \n",
       "3                   705                        C                            C  \n",
       "4                   178                        A                            A  \n",
       "\n",
       "[5 rows x 33 columns]"
      ]
     },
     "execution_count": 68,
     "metadata": {},
     "output_type": "execute_result"
    }
   ],
   "source": [
    "df_train = pd.read_csv('./train_data.csv')\n",
    "df_train.head()"
   ]
  },
  {
   "cell_type": "code",
   "execution_count": 69,
   "metadata": {},
   "outputs": [
    {
     "name": "stdout",
     "output_type": "stream",
     "text": [
      "card_id                          object\n",
      "period_to_first_transaction     float32\n",
      "installments                    float32\n",
      "month_lag                       float32\n",
      "purchase_amount                 float32\n",
      "numerical_1                     float32\n",
      "numerical_2                     float32\n",
      "avg_sales_lag3                  float32\n",
      "avg_purchases_lag3              float32\n",
      "active_months_lag3              float32\n",
      "avg_sales_lag6                  float32\n",
      "avg_purchases_lag6              float32\n",
      "active_months_lag6              float32\n",
      "avg_sales_lag12                 float32\n",
      "avg_purchases_lag12             float32\n",
      "active_months_lag12             float32\n",
      "target                          float32\n",
      "feature_1                      category\n",
      "feature_2                      category\n",
      "feature_3                      category\n",
      "authorized_flag                category\n",
      "category_1                     category\n",
      "category_2                     category\n",
      "category_3                     category\n",
      "category_4                     category\n",
      "city_id                        category\n",
      "state_id                       category\n",
      "subsector_id                   category\n",
      "merchant_id                      object\n",
      "merchant_group_id              category\n",
      "merchant_category_id           category\n",
      "most_recent_sales_range        category\n",
      "most_recent_purchases_range    category\n",
      "dtype: object\n"
     ]
    }
   ],
   "source": [
    "# Convert selected columns to float32 if they exist in the DataFrame\n",
    "for feature in ['period_to_first_transaction',\n",
    "                'installments',\n",
    "                'month_lag',\n",
    "                'purchase_amount',\n",
    "                'numerical_1',\n",
    "                'numerical_2',\n",
    "                'avg_sales_lag3',\n",
    "                'avg_purchases_lag3',\n",
    "                'active_months_lag3',\n",
    "                'avg_sales_lag6',\n",
    "                'avg_purchases_lag6',\n",
    "                'active_months_lag6',\n",
    "                'avg_sales_lag12',\n",
    "                'avg_purchases_lag12',\n",
    "                'active_months_lag12',\n",
    "                'target',\n",
    "                'count']:\n",
    "    if feature in df_train.columns:  # Check if the column exists\n",
    "        df_train[feature] = df_train[feature].astype('float32')\n",
    "\n",
    "# Convert selected columns to category if they exist in the DataFrame\n",
    "for feature in ['feature_1',\n",
    "                'feature_2',\n",
    "                'feature_3',\n",
    "                'authorized_flag',\n",
    "                'category_1',\n",
    "                'category_2',\n",
    "                'category_3',\n",
    "                'category_4',\n",
    "                'city_id',\n",
    "                'state_id',\n",
    "                'subsector_id',\n",
    "                'merchant_group_id',\n",
    "                'merchant_category_id',\n",
    "                'most_recent_sales_range',\n",
    "                'most_recent_purchases_range']:\n",
    "    if feature in df_train.columns:  # Check if the column exists\n",
    "        df_train[feature] = df_train[feature].astype('category')\n",
    "\n",
    "# Verify data types\n",
    "print(df_train.dtypes)\n",
    "\n",
    "# Separate features and target\n",
    "X = df_train.drop(columns=['card_id', 'merchant_id', 'target'], errors='ignore')\n",
    "y = df_train['target']\n",
    "\n",
    "# Train-test split\n",
    "from sklearn.model_selection import train_test_split\n",
    "X_train, X_val, y_train, y_val = train_test_split(X, y, test_size=0.2, random_state=42)\n"
   ]
  },
  {
   "cell_type": "code",
   "execution_count": 70,
   "metadata": {},
   "outputs": [
    {
     "name": "stdout",
     "output_type": "stream",
     "text": [
      "period_to_first_transaction       float32\n",
      "installments                      float32\n",
      "month_lag                         float32\n",
      "purchase_amount                   float32\n",
      "numerical_1                       float32\n",
      "numerical_2                       float32\n",
      "avg_sales_lag3                    float32\n",
      "avg_purchases_lag3                float32\n",
      "active_months_lag3                float32\n",
      "avg_sales_lag6                    float32\n",
      "avg_purchases_lag6                float32\n",
      "active_months_lag6                float32\n",
      "avg_sales_lag12                   float32\n",
      "avg_purchases_lag12               float32\n",
      "active_months_lag12               float32\n",
      "target                            float32\n",
      "card_id_freq                        int64\n",
      "feature_1_2                         uint8\n",
      "feature_1_3                         uint8\n",
      "feature_1_4                         uint8\n",
      "feature_1_5                         uint8\n",
      "feature_2_2                         uint8\n",
      "feature_2_3                         uint8\n",
      "feature_3_1                         uint8\n",
      "authorized_flag_Y                   uint8\n",
      "category_1_Y                        uint8\n",
      "category_2_2.0                      uint8\n",
      "category_2_3.0                      uint8\n",
      "category_2_4.0                      uint8\n",
      "category_2_5.0                      uint8\n",
      "category_3_B                        uint8\n",
      "category_3_C                        uint8\n",
      "category_4_Y                        uint8\n",
      "city_id_freq                        int64\n",
      "state_id_freq                    category\n",
      "subsector_id_freq                   int64\n",
      "merchant_id_freq                    int64\n",
      "merchant_group_id_freq              int64\n",
      "merchant_category_id_freq           int64\n",
      "most_recent_sales_range_B           uint8\n",
      "most_recent_sales_range_C           uint8\n",
      "most_recent_sales_range_D           uint8\n",
      "most_recent_sales_range_E           uint8\n",
      "most_recent_purchases_range_B       uint8\n",
      "most_recent_purchases_range_C       uint8\n",
      "most_recent_purchases_range_D       uint8\n",
      "most_recent_purchases_range_E       uint8\n",
      "dtype: object\n"
     ]
    }
   ],
   "source": [
    "\n",
    "# Identify categorical columns by checking if they are of 'category' or 'object' dtype\n",
    "categorical_columns = [col for col in df_train.columns if df_train[col].dtype == 'category' or df_train[col].dtype == 'object']\n",
    "\n",
    "# Apply encoding based on the cardinality of each categorical column\n",
    "for col in categorical_columns:\n",
    "    if df_train[col].nunique() <= 10:  # Low cardinality\n",
    "        # One-hot encode and drop the original column\n",
    "        df_train = pd.get_dummies(df_train, columns=[col], drop_first=True)\n",
    "    else:  # High cardinality\n",
    "        # Frequency encoding\n",
    "        freq = df_train[col].value_counts()\n",
    "        df_train[f'{col}_freq'] = df_train[col].map(freq)\n",
    "        # Drop the original high cardinality column\n",
    "        df_train = df_train.drop(columns=[col])\n",
    "\n",
    "# Verify the DataFrame to ensure all features are now numeric\n",
    "print(df_train.dtypes)\n",
    "\n",
    "# Prepare features (X) and target (y) for model training\n",
    "X = df_train.drop(columns=['card_id', 'merchant_id', 'target'], errors='ignore')\n",
    "y = df_train['target']\n",
    "\n"
   ]
  },
  {
   "cell_type": "code",
   "execution_count": null,
   "metadata": {},
   "outputs": [
    {
     "name": "stdout",
     "output_type": "stream",
     "text": [
      "\n",
      "RMSE on Test Set: 3.7633819499494314\n"
     ]
    }
   ],
   "source": [
    "import pandas as pd\n",
    "import numpy as np\n",
    "from sklearn.model_selection import train_test_split\n",
    "from sklearn.tree import DecisionTreeRegressor\n",
    "from sklearn.metrics import mean_squared_error\n",
    "\n",
    "# Ensure all columns are numeric after encoding\n",
    "for col in X.columns:\n",
    "    X[col] = pd.to_numeric(X[col], errors='coerce')  # Convert non-numeric to NaN if any\n",
    "\n",
    "# Check for any remaining NaN values (indicating failed conversions)\n",
    "if X.isnull().sum().sum() > 0:\n",
    "    print(\"Warning: Missing values found after conversion, filling with mean values.\")\n",
    "    X.fillna(X.mean(), inplace=True)  # Replace NaNs with column means\n",
    "\n",
    "# Split data into 80% training and 20% validation sets\n",
    "X_train, X_val, y_train, y_val = train_test_split(X, y, test_size=0.2, random_state=42)\n",
    "\n",
    "# Initialize the Decision Tree Regressor\n",
    "model = DecisionTreeRegressor(random_state=42, max_depth=3)  # Adjust max_depth as needed\n",
    "\n",
    "# Fit the model\n",
    "model.fit(X_train, y_train)\n",
    "\n",
    "# Make predictions on the validation set\n",
    "y_pred = model.predict(X_val)\n",
    "\n",
    "# Calculate Mean Squared Error (MSE) and Root Mean Squared Error (RMSE)\n",
    "mse = mean_squared_error(y_val, y_pred)\n",
    "rmse = np.sqrt(mse)\n",
    "print(f'\\nRMSE on Test Set: {rmse}')\n"
   ]
  }
 ],
 "metadata": {
  "colab": {
   "provenance": []
  },
  "kernelspec": {
   "display_name": "Python 3",
   "name": "python3"
  },
  "language_info": {
   "codemirror_mode": {
    "name": "ipython",
    "version": 3
   },
   "file_extension": ".py",
   "mimetype": "text/x-python",
   "name": "python",
   "nbconvert_exporter": "python",
   "pygments_lexer": "ipython3",
   "version": "3.11.1"
  }
 },
 "nbformat": 4,
 "nbformat_minor": 0
}
