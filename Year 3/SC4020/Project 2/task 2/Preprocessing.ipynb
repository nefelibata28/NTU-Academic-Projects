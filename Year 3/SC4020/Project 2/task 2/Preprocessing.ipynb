{
 "cells": [
  {
   "cell_type": "code",
   "execution_count": 1,
   "id": "fa26dc9a-298d-4fd9-ac1b-f8df73cec598",
   "metadata": {},
   "outputs": [],
   "source": [
    "import trackintel as ti\n",
    "import pandas as pd"
   ]
  },
  {
   "cell_type": "markdown",
   "id": "4b25a5f8-cecd-4a2e-bf11-7c1a5e4348e3",
   "metadata": {},
   "source": [
    "# data loading"
   ]
  },
  {
   "cell_type": "code",
   "execution_count": 2,
   "id": "6584931a-833b-4d66-9655-d1fe8c4afe7c",
   "metadata": {},
   "outputs": [],
   "source": [
    "dfa = pd.read_csv('task1_dataset_kotae.csv')"
   ]
  },
  {
   "cell_type": "code",
   "execution_count": 3,
   "id": "a1206468-1697-4157-b469-f6567ef71101",
   "metadata": {},
   "outputs": [],
   "source": [
    "dfb = pd.read_csv('hiroshima_challengedata.csv')"
   ]
  },
  {
   "cell_type": "code",
   "execution_count": 4,
   "id": "5163f27c-07f9-4c24-b2dc-9fed5572be2c",
   "metadata": {},
   "outputs": [],
   "source": [
    "dfc = pd.read_csv('sapporo_challengedata.csv')"
   ]
  },
  {
   "cell_type": "code",
   "execution_count": 5,
   "id": "be6655c7-a864-4263-98f4-2ad1bdf6883c",
   "metadata": {},
   "outputs": [],
   "source": [
    "dfd = pd.read_csv('kumamoto_challengedata.csv')"
   ]
  },
  {
   "cell_type": "code",
   "execution_count": 6,
   "id": "cb7de606-388f-4c66-abdf-d42acc55fe1c",
   "metadata": {
    "scrolled": true
   },
   "outputs": [],
   "source": [
    "# to keep it within first 30 days\n",
    "\n",
    "dfa = dfa[dfa['d'].between(1,10)] # 30 days too long for A\n",
    "dfb = dfb[dfb['d'].between(1,30)]\n",
    "dfc = dfc[dfc['d'].between(1,30)]\n",
    "dfd = dfd[dfd['d'].between(1,30)]"
   ]
  },
  {
   "cell_type": "markdown",
   "id": "f70003ac-28e0-487f-8499-539efd7c6ec6",
   "metadata": {},
   "source": [
    "# Define functions"
   ]
  },
  {
   "cell_type": "code",
   "execution_count": 7,
   "id": "083e8753-f098-4f15-86ec-2874dcceea50",
   "metadata": {},
   "outputs": [],
   "source": [
    "def preprocess(dftest):\n",
    "    \n",
    "    dftest = dftest[(dftest['x'] != -999) & (dftest['y'] != -999)]\n",
    "    \n",
    "    dftest['date'] = pd.to_datetime(dftest['d'], format='%j', errors='coerce')\n",
    "    # since the max d is 47, we assume that each d is part of 48 30 minute intervals\n",
    "    dftest['time'] = pd.to_timedelta(dftest['t'] * 30, unit='m')\n",
    "    dftest['tracked_at'] = dftest['date'] + dftest['time']\n",
    "    dftest['tracked_at'] = dftest['tracked_at'].dt.tz_localize('UTC')\n",
    "    \n",
    "    data = dftest.rename(columns={\n",
    "        'uid': 'user_id',\n",
    "        'x': 'longitude',\n",
    "        'y': 'latitude'\n",
    "    })\n",
    "\n",
    "    return data"
   ]
  },
  {
   "cell_type": "code",
   "execution_count": 8,
   "id": "6df35e40-1db6-4f3c-a101-2fb89ff9f0e1",
   "metadata": {},
   "outputs": [],
   "source": [
    "def custom_write_triplegs_csv(triplegs, filename, **kwargs):\n",
    "    \"\"\"Saves triplegs data to a CSV file with custom options.\n",
    "\n",
    "    Args:\n",
    "        triplegs: The triplegs data.\n",
    "        filename: The name of the output CSV file.\n",
    "        **kwargs: Additional keyword arguments to pass to to_csv.\n",
    "    \"\"\"\n",
    "    triplegs_df = triplegs.to_wkt(rounding_precision=-1, trim=False)\n",
    "    triplegs_df.to_csv(filename, **kwargs)  # Use kwargs to control index etc."
   ]
  },
  {
   "cell_type": "code",
   "execution_count": 9,
   "id": "005adf87-be45-48d3-b1b8-b7cae91f1b92",
   "metadata": {},
   "outputs": [],
   "source": [
    "def create_triplegs(city):\n",
    "    \n",
    "    \"\"\"\n",
    "    Process positionfixes to generate staypoints and triplegs, then save triplegs to a CSV file.\n",
    "\n",
    "    Args:\n",
    "        city (str): Name of the city used to identify data files.\n",
    "    \"\"\"\n",
    "    # Load preprocessed data\n",
    "    print(f\"Loading preprocessed data: city {city}\")\n",
    "    position_fixes = ti.read_positionfixes_csv(f'data_{city}_preprocessed.csv')\n",
    "\n",
    "    # Generate staypoints\n",
    "    print(\"Generating staypoints\")\n",
    "    position_fixes, staypoints = position_fixes.as_positionfixes.generate_staypoints(\n",
    "        method='sliding',\n",
    "        dist_threshold=1,  # Maximum allowed distance in meters (e.g., 500 meters per cell)\n",
    "        time_threshold=90,  # Minimum time duration in minutes\n",
    "        gap_threshold=300,  # Maximum allowable gap in minutes\n",
    "        distance_metric='haversine',  # Use haversine for distance calculation\n",
    "        include_last=True,  # Ensure the final staypoint is included\n",
    "        print_progress=True,  # Display progress during processing\n",
    "        exclude_duplicate_pfs=True,  # Remove duplicate position fixes\n",
    "        n_jobs=-1  # Use all available cores for parallelization\n",
    "    )\n",
    "\n",
    "    # Generate triplegs\n",
    "    print(\"Generating triplegs\")\n",
    "    position_fixes, triplegs = ti.preprocessing.generate_triplegs(\n",
    "        position_fixes, \n",
    "        staypoints, \n",
    "        method='between_staypoints', \n",
    "        gap_threshold=90  # Configure gap threshold based on staypoint parameters\n",
    "    )\n",
    "\n",
    "    # Step 4: Save triplegs to CSV\n",
    "    print(\"Saving Triplegs to csv\")\n",
    "    custom_write_triplegs_csv(triplegs, f'triplegs_{city}.csv', index=False)\n",
    "    print(\"Triplegs saved to csv\")\n",
    "\n"
   ]
  },
  {
   "cell_type": "markdown",
   "id": "64ff0dc5-5793-47e0-acdd-b8cae475f884",
   "metadata": {},
   "source": [
    "# Preprocess data"
   ]
  },
  {
   "cell_type": "code",
   "execution_count": 10,
   "id": "81edc61e-697c-45ce-8f00-333535e03dde",
   "metadata": {},
   "outputs": [],
   "source": [
    "dftest = dfa\n",
    "data = preprocess(dftest)\n",
    "data.to_csv(f'data_A10d_preprocessed.csv', index=False)\n",
    "\n",
    "dftest = dfb\n",
    "data = preprocess(dftest)\n",
    "data.to_csv(f'data_B_preprocessed.csv', index=False)\n",
    "\n",
    "dftest = dfc\n",
    "data = preprocess(dftest)\n",
    "data.to_csv(f'data_C_preprocessed.csv', index=False)\n",
    "\n",
    "dftest = dfd\n",
    "data = preprocess(dftest)\n",
    "data.to_csv(f'data_D_preprocessed.csv', index=False)"
   ]
  },
  {
   "cell_type": "code",
   "execution_count": null,
   "id": "20571826-044f-41d9-b55f-084e1c6e2caf",
   "metadata": {},
   "outputs": [
    {
     "name": "stdout",
     "output_type": "stream",
     "text": [
      "Loading preprocessed data: city A7d\n"
     ]
    },
    {
     "name": "stderr",
     "output_type": "stream",
     "text": [
      "c:\\Users\\pooh_\\AppData\\Local\\Programs\\Python\\Python312\\Lib\\site-packages\\trackintel\\io\\util.py:13: UserWarning: Assuming default index as unique identifier. Pass 'index_col=None' as explicit argument to avoid a warning.\n",
      "  warnings.warn(\n"
     ]
    },
    {
     "name": "stdout",
     "output_type": "stream",
     "text": [
      "Generating staypoints\n"
     ]
    },
    {
     "name": "stderr",
     "output_type": "stream",
     "text": [
      "100%|██████████| 96869/96869 [05:13<00:00, 308.60it/s]\n"
     ]
    },
    {
     "name": "stdout",
     "output_type": "stream",
     "text": [
      "Generating triplegs\n"
     ]
    },
    {
     "name": "stderr",
     "output_type": "stream",
     "text": [
      "c:\\Users\\pooh_\\AppData\\Local\\Programs\\Python\\Python312\\Lib\\site-packages\\trackintel\\preprocessing\\positionfixes.py:361: FutureWarning: Downcasting object dtype arrays on .fillna, .ffill, .bfill is deprecated and will change in a future version. Call result.infer_objects(copy=False) instead. To opt-in to the future behavior, set `pd.set_option('future.no_silent_downcasting', True)`\n",
      "  pfs[\"tripleg_id\"] = pfs[\"tripleg_id\"].ffill()\n",
      "c:\\Users\\pooh_\\AppData\\Local\\Programs\\Python\\Python312\\Lib\\site-packages\\trackintel\\preprocessing\\positionfixes.py:573: UserWarning: The positionfixes with ids [     513      514      543 ... 10035380 10035397 10035398] lead to invalid tripleg geometries. The resulting triplegs were omitted and the tripleg id of the positionfixes was set to nan\n",
      "  warnings.warn(warn_string)\n"
     ]
    },
    {
     "name": "stdout",
     "output_type": "stream",
     "text": [
      "Saving Triplegs to csv\n",
      "Triplegs saved to csv\n"
     ]
    }
   ],
   "source": [
    "create_triplegs('A')"
   ]
  },
  {
   "cell_type": "code",
   "execution_count": null,
   "id": "566ea649",
   "metadata": {},
   "outputs": [
    {
     "name": "stdout",
     "output_type": "stream",
     "text": [
      "Loading preprocessed data: city B\n"
     ]
    },
    {
     "name": "stderr",
     "output_type": "stream",
     "text": [
      "c:\\Users\\pooh_\\AppData\\Local\\Programs\\Python\\Python312\\Lib\\site-packages\\trackintel\\io\\util.py:13: UserWarning: Assuming default index as unique identifier. Pass 'index_col=None' as explicit argument to avoid a warning.\n",
      "  warnings.warn(\n"
     ]
    },
    {
     "name": "stdout",
     "output_type": "stream",
     "text": [
      "Generating staypoints\n"
     ]
    },
    {
     "name": "stderr",
     "output_type": "stream",
     "text": [
      "100%|██████████| 943/943 [00:19<00:00, 47.46it/s] \n"
     ]
    },
    {
     "name": "stdout",
     "output_type": "stream",
     "text": [
      "Generating triplegs\n"
     ]
    },
    {
     "name": "stderr",
     "output_type": "stream",
     "text": [
      "c:\\Users\\pooh_\\AppData\\Local\\Programs\\Python\\Python312\\Lib\\site-packages\\trackintel\\preprocessing\\positionfixes.py:361: FutureWarning: Downcasting object dtype arrays on .fillna, .ffill, .bfill is deprecated and will change in a future version. Call result.infer_objects(copy=False) instead. To opt-in to the future behavior, set `pd.set_option('future.no_silent_downcasting', True)`\n",
      "  pfs[\"tripleg_id\"] = pfs[\"tripleg_id\"].ffill()\n",
      "c:\\Users\\pooh_\\AppData\\Local\\Programs\\Python\\Python312\\Lib\\site-packages\\trackintel\\preprocessing\\positionfixes.py:573: UserWarning: The positionfixes with ids [   156    157    707 ... 418675 418799 418800] lead to invalid tripleg geometries. The resulting triplegs were omitted and the tripleg id of the positionfixes was set to nan\n",
      "  warnings.warn(warn_string)\n"
     ]
    },
    {
     "name": "stdout",
     "output_type": "stream",
     "text": [
      "Saving Triplegs to csv\n",
      "Triplegs saved to csv\n"
     ]
    }
   ],
   "source": [
    "create_triplegs('B')"
   ]
  },
  {
   "cell_type": "code",
   "execution_count": 4,
   "id": "a118e356",
   "metadata": {},
   "outputs": [
    {
     "name": "stdout",
     "output_type": "stream",
     "text": [
      "Loading preprocessed data: city C\n"
     ]
    },
    {
     "name": "stderr",
     "output_type": "stream",
     "text": [
      "c:\\Users\\pooh_\\AppData\\Local\\Programs\\Python\\Python312\\Lib\\site-packages\\trackintel\\io\\util.py:13: UserWarning: Assuming default index as unique identifier. Pass 'index_col=None' as explicit argument to avoid a warning.\n",
      "  warnings.warn(\n"
     ]
    },
    {
     "name": "stdout",
     "output_type": "stream",
     "text": [
      "Generating staypoints\n"
     ]
    },
    {
     "name": "stderr",
     "output_type": "stream",
     "text": [
      "100%|██████████| 224/224 [00:43<00:00,  5.10it/s]\n"
     ]
    },
    {
     "name": "stdout",
     "output_type": "stream",
     "text": [
      "Generating triplegs\n"
     ]
    },
    {
     "name": "stderr",
     "output_type": "stream",
     "text": [
      "c:\\Users\\pooh_\\AppData\\Local\\Programs\\Python\\Python312\\Lib\\site-packages\\trackintel\\preprocessing\\positionfixes.py:361: FutureWarning: Downcasting object dtype arrays on .fillna, .ffill, .bfill is deprecated and will change in a future version. Call result.infer_objects(copy=False) instead. To opt-in to the future behavior, set `pd.set_option('future.no_silent_downcasting', True)`\n",
      "  pfs[\"tripleg_id\"] = pfs[\"tripleg_id\"].ffill()\n",
      "c:\\Users\\pooh_\\AppData\\Local\\Programs\\Python\\Python312\\Lib\\site-packages\\trackintel\\preprocessing\\positionfixes.py:573: UserWarning: The positionfixes with ids [  431   432   468 ... 99554 99621 99622] lead to invalid tripleg geometries. The resulting triplegs were omitted and the tripleg id of the positionfixes was set to nan\n",
      "  warnings.warn(warn_string)\n"
     ]
    },
    {
     "name": "stdout",
     "output_type": "stream",
     "text": [
      "Saving Triplegs to csv\n",
      "Triplegs saved to csv\n"
     ]
    }
   ],
   "source": [
    "create_triplegs('C')"
   ]
  },
  {
   "cell_type": "code",
   "execution_count": null,
   "id": "e6fba71a",
   "metadata": {},
   "outputs": [
    {
     "name": "stdout",
     "output_type": "stream",
     "text": [
      "Loading preprocessed data: city D\n"
     ]
    },
    {
     "name": "stderr",
     "output_type": "stream",
     "text": [
      "c:\\Users\\pooh_\\AppData\\Local\\Programs\\Python\\Python312\\Lib\\site-packages\\trackintel\\io\\util.py:13: UserWarning: Assuming default index as unique identifier. Pass 'index_col=None' as explicit argument to avoid a warning.\n",
      "  warnings.warn(\n"
     ]
    },
    {
     "name": "stdout",
     "output_type": "stream",
     "text": [
      "Generating staypoints\n"
     ]
    },
    {
     "name": "stderr",
     "output_type": "stream",
     "text": [
      "100%|██████████| 702/702 [00:08<00:00, 84.92it/s]\n"
     ]
    },
    {
     "name": "stdout",
     "output_type": "stream",
     "text": [
      "Generating triplegs\n"
     ]
    },
    {
     "name": "stderr",
     "output_type": "stream",
     "text": [
      "c:\\Users\\pooh_\\AppData\\Local\\Programs\\Python\\Python312\\Lib\\site-packages\\trackintel\\preprocessing\\positionfixes.py:361: FutureWarning: Downcasting object dtype arrays on .fillna, .ffill, .bfill is deprecated and will change in a future version. Call result.infer_objects(copy=False) instead. To opt-in to the future behavior, set `pd.set_option('future.no_silent_downcasting', True)`\n",
      "  pfs[\"tripleg_id\"] = pfs[\"tripleg_id\"].ffill()\n",
      "c:\\Users\\pooh_\\AppData\\Local\\Programs\\Python\\Python312\\Lib\\site-packages\\trackintel\\preprocessing\\positionfixes.py:573: UserWarning: The positionfixes with ids [  1261   1262   1282 ... 416030 416031 416032] lead to invalid tripleg geometries. The resulting triplegs were omitted and the tripleg id of the positionfixes was set to nan\n",
      "  warnings.warn(warn_string)\n"
     ]
    },
    {
     "name": "stdout",
     "output_type": "stream",
     "text": [
      "Saving Triplegs to csv\n",
      "Triplegs saved to csv\n"
     ]
    }
   ],
   "source": [
    "create_triplegs('D')"
   ]
  }
 ],
 "metadata": {
  "kernelspec": {
   "display_name": "Python 3 (ipykernel)",
   "language": "python",
   "name": "python3"
  },
  "language_info": {
   "codemirror_mode": {
    "name": "ipython",
    "version": 3
   },
   "file_extension": ".py",
   "mimetype": "text/x-python",
   "name": "python",
   "nbconvert_exporter": "python",
   "pygments_lexer": "ipython3",
   "version": "3.13.0"
  }
 },
 "nbformat": 4,
 "nbformat_minor": 5
}
