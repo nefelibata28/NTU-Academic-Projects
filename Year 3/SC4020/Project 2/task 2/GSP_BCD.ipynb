{
 "cells": [
  {
   "cell_type": "code",
   "execution_count": 1,
   "metadata": {
    "id": "C7syxtwOSTPZ"
   },
   "outputs": [],
   "source": [
    "import pandas as pd\n",
    "from collections import defaultdict\n",
    "from itertools import combinations\n",
    "import ast"
   ]
  },
  {
   "cell_type": "markdown",
   "metadata": {
    "id": "7b6oGK3x_x7z"
   },
   "source": [
    "## Preprocess Data"
   ]
  },
  {
   "cell_type": "code",
   "execution_count": 2,
   "metadata": {
    "id": "3CQpwlB7_x7z"
   },
   "outputs": [],
   "source": [
    "import re\n",
    "\n",
    "def process_triplegs_data(dataframe, time_column='started_at'):\n",
    "    # Convert to datetime object\n",
    "    dataframe[time_column] = pd.to_datetime(dataframe[time_column])\n",
    "\n",
    "    # Define the initial and cutoff dates\n",
    "    initial_date = pd.to_datetime('1900-01-01').tz_localize('UTC')\n",
    "    cutoff_date = initial_date + pd.Timedelta(days=30)\n",
    "\n",
    "    # Filter to within date range\n",
    "    filtered_data = dataframe.loc[\n",
    "        (dataframe[time_column] >= initial_date) & (dataframe[time_column] < cutoff_date)\n",
    "    ].copy()  # .copy() ensures modifications won't trigger a warning\n",
    "\n",
    "    # Transform LINESTRING into tuples of integer coordinates\n",
    "    def parse_linestring(linestring):\n",
    "        # Extract coordinate pairs from the LINESTRING using regex\n",
    "        coordinates = re.findall(r'(\\d+\\.\\d+ \\d+\\.\\d+)', linestring)\n",
    "        # Convert the extracted coordinates to integer tuples\n",
    "        int_coords = [tuple(map(int, map(float, coord.split()))) for coord in coordinates]\n",
    "        return int_coords  # Return as a list of tuples\n",
    "\n",
    "    # Apply the transformation to the 'geom' column\n",
    "    filtered_data['geom'] = filtered_data['geom'].apply(parse_linestring)\n",
    "\n",
    "    # Group sequences by user ID and collect into lists\n",
    "    grouped_sequences = filtered_data.groupby('user_id')['geom'].apply(list).tolist()\n",
    "\n",
    "    # Flatten the nested lists into a single list of coordinate tuples\n",
    "    all_coordinates = [coords for sequence in grouped_sequences for coords in sequence]\n",
    "\n",
    "    return all_coordinates"
   ]
  },
  {
   "cell_type": "code",
   "execution_count": 3,
   "metadata": {
    "id": "FgEVbX-sK5Tx"
   },
   "outputs": [],
   "source": [
    "def triplegs_split(df, max_length=500): # Split into 500\n",
    "\n",
    "    def split_geom_data(geom, max_length):\n",
    "        points = geom.split(',')\n",
    "        sub_tpls = [','.join(points[i:i + max_length]) for i in range(0, len(points), max_length)]\n",
    "        return sub_tpls\n",
    "\n",
    "    new_rows = []\n",
    "    for _, row in df.iterrows():\n",
    "        geoms = split_geom_data(row['geom'], max_length)\n",
    "        for geom in geoms:\n",
    "            new_row = row.copy()\n",
    "            new_row['geom'] = geom\n",
    "            new_rows.append(new_row)\n",
    "\n",
    "    return pd.DataFrame(new_rows)"
   ]
  },
  {
   "cell_type": "markdown",
   "metadata": {
    "id": "YCZOHzaO_x7z"
   },
   "source": [
    "## Apply GSP"
   ]
  },
  {
   "cell_type": "code",
   "execution_count": 4,
   "metadata": {
    "id": "ShWEKZGxDu1X"
   },
   "outputs": [],
   "source": [
    "from collections import defaultdict\n",
    "from itertools import combinations\n",
    "\n",
    "def generate_candidates(sequences, length):\n",
    "    candidates = set()\n",
    "    for seq in sequences:\n",
    "        for i in range(len(seq) - length + 1):\n",
    "            candidates.add(tuple(seq[i:i + length]))\n",
    "    return candidates\n",
    "\n",
    "def is_subsequence(candidate, sequence):\n",
    "    it = iter(sequence)\n",
    "    return all(item in it for item in candidate)\n",
    "\n",
    "def count_support(candidates, sequences):\n",
    "    support_count = defaultdict(int)\n",
    "    for candidate in candidates:\n",
    "        for seq in sequences:\n",
    "            if is_subsequence(candidate, seq):\n",
    "                support_count[candidate] += 1\n",
    "    return support_count\n",
    "\n",
    "\n",
    "def prune_candidates(support_count, min_support):\n",
    "    return {seq: count for seq, count in support_count.items() if count >= min_support}\n",
    "\n",
    "def generate_new_candidates(frequent_sequences, length):\n",
    "    new_candidates = set()\n",
    "    frequent_sequences = list(frequent_sequences)\n",
    "    for seq1, seq2 in combinations(frequent_sequences, 2):\n",
    "        if seq1[1:] == seq2[:-1]:\n",
    "            new_candidates.add(seq1 + (seq2[-1],))\n",
    "    return new_candidates\n",
    "\n",
    "def gsp(sequences, min_support):\n",
    "    length = 2\n",
    "    frequent_sequences = generate_candidates(sequences, length)\n",
    "    all_frequent_sequences = []\n",
    "\n",
    "    while frequent_sequences:\n",
    "        support_count = count_support(frequent_sequences, sequences)\n",
    "        frequent_sequences = prune_candidates(support_count, min_support)\n",
    "\n",
    "        all_frequent_sequences.extend(frequent_sequences.keys())\n",
    "\n",
    "        length += 1\n",
    "        frequent_sequences = generate_new_candidates(frequent_sequences.keys(), length)\n",
    "\n",
    "    return all_frequent_sequences\n"
   ]
  },
  {
   "cell_type": "markdown",
   "metadata": {
    "id": "TClCAJf9_x70"
   },
   "source": [
    "## Save Output to CSV"
   ]
  },
  {
   "cell_type": "code",
   "execution_count": 5,
   "metadata": {
    "id": "bS7LTzhC_x70"
   },
   "outputs": [],
   "source": [
    "def gsp_output_save(gsp_output, output_file):\n",
    "    # Convert sequences to a string representation\n",
    "    sequences_df = pd.DataFrame({'Sequence': [\", \".join(map(str, seq)) for seq in gsp_output]})\n",
    "    sequences_df.to_csv(output_file, index=False)\n",
    "    print(f\"GSP results saved to {output_file}\")\n"
   ]
  },
  {
   "cell_type": "markdown",
   "metadata": {
    "id": "_RXb-usP_N_T"
   },
   "source": [
    "# Data C"
   ]
  },
  {
   "cell_type": "code",
   "execution_count": null,
   "metadata": {
    "id": "BUSSx5yT_x70"
   },
   "outputs": [],
   "source": [
    "df = pd.read_csv('triplegsC.csv')\n",
    "\n",
    "# Split long triplegs into shorter sub-triplegs\n",
    "df = triplegs_split(df)\n",
    "\n",
    "# Preprocess the data\n",
    "sequences = process_triplegs_data(df)"
   ]
  },
  {
   "cell_type": "code",
   "execution_count": null,
   "metadata": {
    "colab": {
     "base_uri": "https://localhost:8080/"
    },
    "id": "42gCSb7NPUbV",
    "outputId": "2c989a38-27f1-40a3-8a4d-29f7d2cd1912"
   },
   "outputs": [
    {
     "name": "stdout",
     "output_type": "stream",
     "text": [
      "Minimum support threshold: 4\n"
     ]
    }
   ],
   "source": [
    "# Use 0.01% of data size as minsup\n",
    "min_support = int(0.0001 * len(sequences))\n",
    "print(f\"Minimum support threshold: {min_support}\")\n",
    "\n",
    "# Apply GSP\n",
    "frequent_sequences = gsp(sequences, min_support)\n"
   ]
  },
  {
   "cell_type": "code",
   "execution_count": 11,
   "metadata": {
    "colab": {
     "base_uri": "https://localhost:8080/"
    },
    "id": "N5h0rh4c_N_U",
    "outputId": "24efc2dd-a1bf-4f8e-ce55-24a9d21d9e9e"
   },
   "outputs": [
    {
     "name": "stdout",
     "output_type": "stream",
     "text": [
      "GSP results saved to frequent_sequences_C.csv\n"
     ]
    }
   ],
   "source": [
    "gsp_output_save(frequent_sequences, 'frequent_sequences_C.csv')"
   ]
  },
  {
   "cell_type": "markdown",
   "metadata": {
    "id": "KxWfHda3_N_U"
   },
   "source": [
    "# Data D"
   ]
  },
  {
   "cell_type": "code",
   "execution_count": null,
   "metadata": {
    "id": "SWrkuR8w_N_U"
   },
   "outputs": [],
   "source": [
    "df = pd.read_csv('triplegsD.csv')\n",
    "\n",
    "# Split long triplegs into shorter sub-triplegs\n",
    "df = triplegs_split(df)\n",
    "\n",
    "# Preprocess the data\n",
    "sequences = process_triplegs_data(df)"
   ]
  },
  {
   "cell_type": "code",
   "execution_count": null,
   "metadata": {
    "id": "ZKCG43IO_N_U",
    "outputId": "e628dd2d-7cce-422a-c62b-3a0cc8981a46"
   },
   "outputs": [
    {
     "name": "stdout",
     "output_type": "stream",
     "text": [
      "Minimum support threshold: 4\n"
     ]
    }
   ],
   "source": [
    "# Use 0.01% of data size as minsup\n",
    "min_support = int(0.0001 * len(sequences))\n",
    "print(f\"Minimum support threshold: {min_support}\")\n",
    "\n",
    "# Apply GSP\n",
    "frequent_sequences = gsp(sequences, min_support)\n"
   ]
  },
  {
   "cell_type": "code",
   "execution_count": null,
   "metadata": {
    "id": "5BqCj6mY_N_V",
    "outputId": "068de09f-cb9c-4056-d9c9-5ba88f2164b5"
   },
   "outputs": [
    {
     "name": "stdout",
     "output_type": "stream",
     "text": [
      "GSP results saved to frequent_sequences_D.csv\n"
     ]
    }
   ],
   "source": [
    "\n",
    "gsp_output_save(frequent_sequences, 'frequent_sequences_D.csv')"
   ]
  },
  {
   "cell_type": "markdown",
   "metadata": {
    "id": "nGeqcTvn_N_V"
   },
   "source": [
    "# Data B"
   ]
  },
  {
   "cell_type": "code",
   "execution_count": null,
   "metadata": {
    "id": "XCPC5OmX_N_V"
   },
   "outputs": [],
   "source": [
    "df = pd.read_csv('triplegsB.csv')\n",
    "\n",
    "# Split long triplegs into shorter sub-triplegs\n",
    "df = triplegs_split(df)\n",
    "\n",
    "# Preprocess the data\n",
    "sequences = process_triplegs_data(df)"
   ]
  },
  {
   "cell_type": "code",
   "execution_count": null,
   "metadata": {
    "id": "J3rcKru1_N_V",
    "outputId": "e529c171-0219-4a12-b969-694ebed66940"
   },
   "outputs": [
    {
     "name": "stdout",
     "output_type": "stream",
     "text": [
      "Minimum support threshold: 4\n"
     ]
    }
   ],
   "source": [
    "# Use 0.01% of data size as minsup\n",
    "min_support = int(0.0001 * len(sequences))\n",
    "print(f\"Minimum support threshold: {min_support}\")\n",
    "\n",
    "# Apply GSP\n",
    "# frequent_sequences = gsp(sequences, min_support)"
   ]
  },
  {
   "cell_type": "code",
   "execution_count": null,
   "metadata": {
    "id": "6HTMsNMx_N_V",
    "outputId": "94444479-59b7-4312-9c32-bf70682aa6f3"
   },
   "outputs": [
    {
     "name": "stdout",
     "output_type": "stream",
     "text": [
      "GSP results saved to frequent_sequences_B.csv\n"
     ]
    }
   ],
   "source": [
    "\n",
    "gsp_output_save(frequent_sequences, 'frequent_sequences_B.csv')"
   ]
  }
 ],
 "metadata": {
  "colab": {
   "provenance": []
  },
  "kernelspec": {
   "display_name": "Python 3",
   "language": "python",
   "name": "python3"
  },
  "language_info": {
   "codemirror_mode": {
    "name": "ipython",
    "version": 3
   },
   "file_extension": ".py",
   "mimetype": "text/x-python",
   "name": "python",
   "nbconvert_exporter": "python",
   "pygments_lexer": "ipython3",
   "version": "3.12.2"
  }
 },
 "nbformat": 4,
 "nbformat_minor": 0
}
